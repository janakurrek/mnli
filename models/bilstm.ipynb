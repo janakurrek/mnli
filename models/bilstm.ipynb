{
 "cells": [
  {
   "cell_type": "code",
   "execution_count": 1,
   "metadata": {},
   "outputs": [],
   "source": [
    "import torchtext\n",
    "import torch\n",
    "import pandas as pd\n",
    "import numpy as np\n",
    "\n",
    "import matplotlib.pyplot as plt\n",
    "\n",
    "from torch.autograd import Variable\n",
    "import torch.nn.functional as F\n",
    "from torchtext import data\n",
    "from torch import nn\n",
    "import random\n",
    "\n",
    "import spacy\n",
    "import math\n",
    "\n",
    "import sys\n",
    "sys.path.append('..')\n",
    "\n",
    "from utils.load_data import GLOVE_PATH, LABEL_TO_INT"
   ]
  },
  {
   "cell_type": "code",
   "execution_count": 2,
   "metadata": {},
   "outputs": [],
   "source": [
    "outpath = '/home/ndg/users/jkurre/mnli/models/bilstm.pt'"
   ]
  },
  {
   "cell_type": "code",
   "execution_count": 3,
   "metadata": {},
   "outputs": [
    {
     "data": {
      "text/plain": [
       "{'contradiction': 1, 'entailment': 2, 'neutral': 3}"
      ]
     },
     "execution_count": 3,
     "metadata": {},
     "output_type": "execute_result"
    }
   ],
   "source": [
    "LABEL_TO_INT"
   ]
  },
  {
   "cell_type": "markdown",
   "metadata": {},
   "source": [
    "### Load Dataset"
   ]
  },
  {
   "cell_type": "code",
   "execution_count": 4,
   "metadata": {},
   "outputs": [
    {
     "name": "stdout",
     "output_type": "stream",
     "text": [
      "torch.Size([74760, 50])\n",
      "Unique tokens in text vocabulary: 74760\n"
     ]
    }
   ],
   "source": [
    "source = data.Field(\n",
    "        tokenize = 'spacy'\n",
    "        , lower = True\n",
    "        , batch_first = True\n",
    ")\n",
    "\n",
    "target = data.Field(\n",
    "        sequential=False\n",
    "        , use_vocab = False\n",
    "        , is_target=True\n",
    ")\n",
    "\n",
    "train_data, valid_data, test_data = data.TabularDataset.splits(\n",
    "    path = '/home/ndg/users/jkurre/mnli/utils'\n",
    "    , train = 'train.csv' # test\n",
    "    , validation = 'val.csv' # test\n",
    "    , test = 'test.csv' # test\n",
    "    , format = 'csv'\n",
    "    , fields = {'sentence': ('text', source), 'gold_label': ('target', target)}\n",
    ")\n",
    "\n",
    "source.build_vocab(train_data, min_freq=2)\n",
    "source.vocab.load_vectors(torchtext.vocab.Vectors(GLOVE_PATH, cache=\".\"))\n",
    "\n",
    "print(source.vocab.vectors.shape)\n",
    "print(f\"Unique tokens in text vocabulary: {len(source.vocab)}\")"
   ]
  },
  {
   "cell_type": "markdown",
   "metadata": {},
   "source": [
    "### Build Model"
   ]
  },
  {
   "cell_type": "code",
   "execution_count": 5,
   "metadata": {},
   "outputs": [],
   "source": [
    "class Attention(nn.Module):\n",
    "    def __init__(self, hidden_size):\n",
    "        super(Attention, self).__init__()\n",
    "        \n",
    "        self.hidden_size = hidden_size\n",
    "        self.attn = nn.Linear(self.hidden_size * 4, hidden_size)\n",
    "        self.v = nn.Parameter(torch.rand(hidden_size))\n",
    "        stdv = 1. / math.sqrt(self.v.size(0))\n",
    "        self.v.data.uniform_(-stdv, stdv)\n",
    "\n",
    "    def forward(self, hidden, encoder_outputs):\n",
    "        hidden = hidden.reshape((1, hidden.shape[1], hidden.shape[2] * 2))\n",
    "        timestep = encoder_outputs.size(0)\n",
    "        h = hidden.repeat(timestep, 1, 1).transpose(0, 1)\n",
    "        encoder_outputs = encoder_outputs.transpose(0, 1)  # [B*T*H]\n",
    "        attn_energies = self.score(h, encoder_outputs)\n",
    "        return F.softmax(attn_energies, dim=1).unsqueeze(1)\n",
    "\n",
    "    def score(self, hidden, encoder_outputs):\n",
    "        # [B*T*2H]->[B*T*H]\n",
    "        catted = torch.cat([hidden, encoder_outputs], 2)\n",
    "        energy = F.relu(self.attn(catted))\n",
    "        energy = energy.transpose(1, 2)  # [B*H*T]\n",
    "        v = self.v.repeat(encoder_outputs.size(0), 1).unsqueeze(1)  # [B*1*H]\n",
    "        energy = torch.bmm(v, energy)  # [B*1*T]\n",
    "        return energy.squeeze(1)  # [B*T]\n",
    "    \n",
    "class Seq2One(nn.Module):\n",
    "    def __init__(self, input_size, output_size, embed_size,\n",
    "                 hidden_size, n_layers, dropout):\n",
    "        \n",
    "        super(Seq2One, self).__init__()\n",
    "        \n",
    "        self.hidden_size = hidden_size\n",
    "        self.n_layers = n_layers\n",
    "        \n",
    "        self.dropout = nn.Dropout(dropout)\n",
    "        self.embed = nn.Embedding(input_size, embed_size)\n",
    "        self.lstm = nn.LSTM(embed_size, hidden_size,\n",
    "                            num_layers=n_layers, dropout=dropout, \n",
    "                            bidirectional=True)\n",
    "        self.attention = Attention(hidden_size)\n",
    "        self.fc = nn.Linear(self.hidden_size * 2, output_size)\n",
    "        \n",
    "    def forward(self, x):\n",
    "        # x: (seq_length, N) where N is the batch size\n",
    "        embedded = self.dropout(self.embed(x.transpose(0,1)))\n",
    "        \n",
    "        # embedded: (seq_length, N, embed_size)\n",
    "        outputs, (hidden, cell) = self.lstm(embedded)\n",
    "        \n",
    "        weights = self.attention(hidden[-2:], outputs)\n",
    "        \n",
    "        context = weights.bmm(outputs.transpose(0, 1))\n",
    "        context = context.transpose(0, 1)\n",
    "        \n",
    "        context = context.squeeze(0)\n",
    "        output = self.fc(context)\n",
    "        output = F.log_softmax(output, dim=1)\n",
    "        \n",
    "        return output"
   ]
  },
  {
   "cell_type": "code",
   "execution_count": null,
   "metadata": {},
   "outputs": [],
   "source": [
    "\"\"\"Hyperparameters\"\"\"\n",
    "# training\n",
    "num_epochs = 20\n",
    "learning_rate = 0.001\n",
    "batch_size = 32\n",
    "\n",
    "# model hyperparameters\n",
    "device = torch.device('cuda' if torch.cuda.is_available() else 'cpu')\n",
    "input_size = len(source.vocab)\n",
    "output_size = len(LABEL_TO_INT)\n",
    "embed_size = 50\n",
    "hidden_size = 1024\n",
    "num_layers = 2\n",
    "dropout = 0.5\n",
    "\n",
    "# define iterator\n",
    "train_iterator, valid_iterator, test_iterator = data.BucketIterator.splits(\n",
    "    (train_data, valid_data, test_data), \n",
    "     batch_size = batch_size,\n",
    "     sort_within_batch = True,\n",
    "     sort_key = lambda x: len(x.text), # minimize padding\n",
    "     device = device)\n",
    "\n",
    "\n",
    "model = Seq2One(input_size, output_size, embed_size, hidden_size,\n",
    "                  num_layers, dropout).to(device)\n",
    "\n",
    "pad_idx = source.vocab.stoi[\"<pad\"]\n",
    "criterion = nn.CrossEntropyLoss(ignore_index=pad_idx)\n",
    "optimizer = torch.optim.Adam(model.parameters(), lr=learning_rate)\n",
    "\n",
    "# simple cross entropy cost (might be numerically unstable if pred has 0)\n",
    "# https://discuss.pytorch.org/t/cross-entropy-with-one-hot-targets/13580/6\n",
    "def xentropy_cost(x_target, log_x_pred):\n",
    "    \"\"\"Cross Entropy for One Hot Encoded Targets\"\"\"\n",
    "    assert x_target.size() == log_x_pred.size(), \"size fail ! \" + str(x_target.size()) + \" \" + str(log_x_pred.size())\n",
    "    return -torch.sum(x_target * log_x_pred)"
   ]
  },
  {
   "cell_type": "code",
   "execution_count": null,
   "metadata": {},
   "outputs": [
    {
     "name": "stdout",
     "output_type": "stream",
     "text": [
      "Epoch 0 of 20\n",
      "Epoch 1 of 20\n",
      "Epoch 2 of 20\n",
      "Epoch 3 of 20\n",
      "Epoch 4 of 20\n"
     ]
    }
   ],
   "source": [
    "xloss_values = []\n",
    "loss_values = []\n",
    "running_loss = 0.0\n",
    "\n",
    "for epoch in range(num_epochs):\n",
    "    \n",
    "    print(f\"Epoch {epoch} of {num_epochs}\")\n",
    "    \n",
    "    for batch_idx, batch in enumerate(train_iterator):\n",
    "        input_data = batch.text.to(device)\n",
    "        target_data = batch.target.to(device)\n",
    "        target_data_one_hot = torch.nn.functional.one_hot(target_data - 1, len(LABEL_TO_INT))\n",
    "        # index values of shape (*) returns tensor of shape (*, num_classes)\n",
    "        # encoding position corresponds to labels; subtract tensor by 1\n",
    "        \n",
    "        output = model(input_data)\n",
    "        \n",
    "        optimizer.zero_grad()\n",
    "        loss = xentropy_cost(target_data_one_hot, output)\n",
    "        \n",
    "        # address gradient issue\n",
    "        loss.backward()\n",
    "        torch.nn.utils.clip_grad_norm_(model.parameters(), max_norm=1)\n",
    "        optimizer.step()\n",
    "        \n",
    "        running_loss =+ float(loss) * batch_size\n",
    "        xloss_values.append(float(loss))\n",
    "    \n",
    "    loss_values.append(running_loss)"
   ]
  },
  {
   "cell_type": "code",
   "execution_count": null,
   "metadata": {},
   "outputs": [],
   "source": [
    "# bilstm with sentence separator token\n",
    "plt.plot(loss_values)\n",
    "plt.show()"
   ]
  },
  {
   "cell_type": "code",
   "execution_count": null,
   "metadata": {},
   "outputs": [],
   "source": [
    "torch.save(model, outpath)"
   ]
  },
  {
   "cell_type": "markdown",
   "metadata": {},
   "source": [
    "### Load Model"
   ]
  },
  {
   "cell_type": "code",
   "execution_count": null,
   "metadata": {},
   "outputs": [],
   "source": [
    "model = torch.load(outpath)"
   ]
  },
  {
   "cell_type": "code",
   "execution_count": null,
   "metadata": {},
   "outputs": [],
   "source": [
    "print(\"Model's state_dict:\")\n",
    "for param_tensor in model.state_dict():\n",
    "    print(param_tensor, \"\\t\", model.state_dict()[param_tensor].size())\n",
    "\n",
    "print(\"---\")\n",
    "print(\"Optimizer's state_dict:\")\n",
    "for var_name in optimizer.state_dict():\n",
    "    print(var_name, \"\\t\", optimizer.state_dict()[var_name])"
   ]
  },
  {
   "cell_type": "code",
   "execution_count": null,
   "metadata": {
    "scrolled": false
   },
   "outputs": [],
   "source": [
    "# bilstm with sentence separator token\n",
    "# latest model is bow; poor accuracy\n",
    "\n",
    "all_acc = []\n",
    "\n",
    "for iterator in [train_iterator, test_iterator]:\n",
    "    for batch_idx, batch in enumerate(iterator):\n",
    "\n",
    "        input_data = batch.text.to(device)\n",
    "        target_data = batch.target.to(device)\n",
    "        target_data_one_hot = torch.nn.functional.one_hot(target_data - 1, len(LABEL_TO_INT))\n",
    "\n",
    "        output = model(input_data)\n",
    "\n",
    "        max_output = torch.argmax(output, dim=1)\n",
    "        actual_output = target_data_one_hot.argmax(dim=1)\n",
    "\n",
    "        n_correct = (max_output == actual_output).sum()\n",
    "        n_total = batch.batch_size\n",
    "        test_acc = 100. * n_correct/n_total\n",
    "\n",
    "        # print(\"test accuracy - %f\" % test_acc)\n",
    "        all_acc.append(test_acc.item())\n",
    "\n",
    "        if batch_idx == 10000:\n",
    "            break\n",
    "    \n",
    "    print(f\"Mean accuracy: {np.mean(all_acc)}\")\n",
    "    print(f\"Mean accuracy: {np.std(all_acc)}\")\n",
    "    plt.plot(all_acc)\n",
    "    plt.show()"
   ]
  },
  {
   "cell_type": "code",
   "execution_count": 2,
   "metadata": {},
   "outputs": [
    {
     "data": {
      "text/plain": [
       "[4, 4]"
      ]
     },
     "execution_count": 2,
     "metadata": {},
     "output_type": "execute_result"
    }
   ],
   "source": []
  },
  {
   "cell_type": "code",
   "execution_count": null,
   "metadata": {},
   "outputs": [],
   "source": []
  }
 ],
 "metadata": {
  "kernelspec": {
   "display_name": "Python 3",
   "language": "python",
   "name": "python3"
  },
  "language_info": {
   "codemirror_mode": {
    "name": "ipython",
    "version": 3
   },
   "file_extension": ".py",
   "mimetype": "text/x-python",
   "name": "python",
   "nbconvert_exporter": "python",
   "pygments_lexer": "ipython3",
   "version": "3.6.9"
  }
 },
 "nbformat": 4,
 "nbformat_minor": 4
}
