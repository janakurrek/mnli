{
 "cells": [
  {
   "cell_type": "code",
   "execution_count": 49,
   "metadata": {},
   "outputs": [],
   "source": [
    "import time\n",
    "import math\n",
    "import torch\n",
    "\n",
    "from torch import nn\n",
    "import torch.optim as O\n",
    "import torch.nn.functional as F\n",
    "from torchtext import data, vocab, datasets"
   ]
  },
  {
   "cell_type": "code",
   "execution_count": 107,
   "metadata": {},
   "outputs": [],
   "source": [
    "class Parameters():\n",
    "    def __init__(self):\n",
    "        # gpu\n",
    "        self.device = torch.device('cuda' if torch.cuda.is_available() else 'cpu')\n",
    "        # word vectors\n",
    "        self.embed_size = 50\n",
    "        self.word_vectors = True\n",
    "        self.glove_path = '/home/ndg/users/jkurre/mnli/utils/embeddings/glove.6B.50d.txt'\n",
    "        # model configs\n",
    "        self.hidden_size = 1024\n",
    "        self.batch_size = 32\n",
    "        self.input_size = 76790\n",
    "        self.output_size = 4\n",
    "        self.n_layers = 2\n",
    "        self.n_cells = 4\n",
    "        self.dropout = 0.5\n",
    "        # training\n",
    "        self.epochs = 5\n",
    "        self.learning_rate = 0.001\n",
    "\n",
    "params = Parameters()"
   ]
  },
  {
   "cell_type": "code",
   "execution_count": 108,
   "metadata": {},
   "outputs": [],
   "source": [
    "inputs = data.Field(\n",
    "    lower=True,\n",
    "    tokenize='spacy'\n",
    ")\n",
    "\n",
    "answers = data.Field(\n",
    "    sequential=False\n",
    ")\n",
    "\n",
    "train, dev, test = datasets.MultiNLI.splits(\n",
    "    text_field=inputs,\n",
    "    label_field=answers\n",
    "    )\n",
    "\n",
    "inputs.build_vocab(train, dev, test)\n",
    "\n",
    "if params.word_vectors:\n",
    "    inputs.vocab.load_vectors(vocab.Vectors(params.glove_path, cache=\".\"))\n",
    "\n",
    "answers.build_vocab(train)"
   ]
  },
  {
   "cell_type": "code",
   "execution_count": 109,
   "metadata": {},
   "outputs": [
    {
     "name": "stdout",
     "output_type": "stream",
     "text": [
      "Unique tokens in inputs vocabulary: 76790\n",
      "Unique tokens in answers vocabulary: 4\n"
     ]
    }
   ],
   "source": [
    "params.n_embed = len(inputs.vocab)\n",
    "params.d_out = len(answers.vocab)\n",
    "\n",
    "print(f\"Unique tokens in inputs vocabulary: {params.n_embed}\")\n",
    "print(f\"Unique tokens in answers vocabulary: {params.d_out}\")"
   ]
  },
  {
   "cell_type": "code",
   "execution_count": 110,
   "metadata": {},
   "outputs": [],
   "source": [
    "train_iterator, valid_iterator, test_iterator = data.BucketIterator.splits(\n",
    "    (train, dev, test), batch_size=params.batch_size, device=params.device)"
   ]
  },
  {
   "cell_type": "code",
   "execution_count": 118,
   "metadata": {},
   "outputs": [],
   "source": [
    "class MultiNLIModel(nn.Module):\n",
    "    def __init__(self, input_size, output_size, embed_size, \n",
    "                 hidden_size, dropout, n_layers, n_cells):\n",
    "        \n",
    "        super(MultiNLIModel, self).__init__()\n",
    "        \n",
    "        self.hidden_size = hidden_size\n",
    "        self.n_cells = n_cells\n",
    "        \n",
    "        self.relu = nn.ReLU()\n",
    "        self.dropout = nn.Dropout(dropout)\n",
    "        self.embed = nn.Embedding(input_size, embed_size)\n",
    "        self.lstm = nn.LSTM(embed_size, hidden_size,\n",
    "                            num_layers=n_layers, dropout=dropout, \n",
    "                            bidirectional=True)\n",
    "        self.fc = nn.Linear(hidden_size * 2, output_size, bias=False)\n",
    "        self.attention = Attention(hidden_size)\n",
    "    \n",
    "    def encode(self, pair_embed, batch_size):\n",
    "        state_shape = self.n_cells, batch_size, self.hidden_size\n",
    "        h0 = c0 = pair_embed.new_zeros(state_shape)\n",
    "        outputs, (ht, ct) = self.lstm(pair_embed, (h0, c0))\n",
    "        return ht[-2:].transpose(0, 1).contiguous().view(batch_size, -1)\n",
    "        \n",
    "    def forward(self, pair):\n",
    "        # get batch size\n",
    "        batch_size = pair.batch_size\n",
    "        \n",
    "        # seq_length, batch_size, embed_size\n",
    "        prem_embed = self.embed(pair.premise)\n",
    "        hypo_embed = self.embed(pair.hypothesis)\n",
    "        \n",
    "        # fix word embeddings\n",
    "        prem_embed.detach()\n",
    "        hypo_embed.detach()\n",
    "        \n",
    "        # seq_length * 2, batch_size, embed_size\n",
    "        pair_embed = torch.cat((prem_embed, hypo_embed),0)\n",
    "        pair_embed = self.encode(pair_embed, batch_size)\n",
    "\n",
    "        # seq_length * 2, batch_size, output_size\n",
    "        pair_embed = self.relu(self.fc(pair_embed))\n",
    "        \n",
    "        return pair_embed"
   ]
  },
  {
   "cell_type": "code",
   "execution_count": 119,
   "metadata": {},
   "outputs": [],
   "source": [
    "model = MultiNLIModel(params.input_size, params.output_size, params.embed_size,\n",
    "                      params.hidden_size, params.dropout, params.n_layers, params.n_cells).to(params.device)"
   ]
  },
  {
   "cell_type": "code",
   "execution_count": 121,
   "metadata": {},
   "outputs": [
    {
     "name": "stdout",
     "output_type": "stream",
     "text": [
      "torch.Size([32, 2048])\n"
     ]
    }
   ],
   "source": [
    "criterion = nn.CrossEntropyLoss()\n",
    "opt = O.Adam(model.parameters(), lr=params.learning_rate)\n",
    "\n",
    "for epoch in range(params.epochs):\n",
    "    train_iterator.init_epoch()\n",
    "    n_correct, n_total = 0, 0\n",
    "    for batch_idx, batch in enumerate(train_iterator):\n",
    "        \n",
    "        # switch model to training mode, clear gradient accumulators\n",
    "        model.train();\n",
    "        opt.zero_grad()\n",
    "\n",
    "        iterations += 1\n",
    "\n",
    "        # forward pass\n",
    "        answer = model(batch)\n",
    "        break\n",
    "    break"
   ]
  },
  {
   "cell_type": "code",
   "execution_count": 124,
   "metadata": {},
   "outputs": [
    {
     "data": {
      "text/plain": [
       "tensor([[5.0365e-03, 1.4996e-03, 0.0000e+00, 5.3676e-03],\n",
       "        [1.5427e-02, 0.0000e+00, 1.9569e-02, 4.4181e-03],\n",
       "        [1.2586e-02, 0.0000e+00, 0.0000e+00, 4.6843e-03],\n",
       "        [7.9193e-03, 0.0000e+00, 0.0000e+00, 1.3234e-02],\n",
       "        [7.1614e-03, 1.2290e-04, 0.0000e+00, 3.2336e-03],\n",
       "        [1.5495e-02, 0.0000e+00, 0.0000e+00, 5.6884e-03],\n",
       "        [7.0269e-03, 1.3025e-03, 1.4302e-02, 1.3160e-03],\n",
       "        [2.5676e-02, 0.0000e+00, 0.0000e+00, 1.3555e-02],\n",
       "        [6.0713e-03, 0.0000e+00, 0.0000e+00, 1.0785e-02],\n",
       "        [1.4159e-02, 7.0453e-04, 3.8457e-03, 1.7475e-02],\n",
       "        [1.4288e-02, 0.0000e+00, 0.0000e+00, 4.1077e-03],\n",
       "        [1.1782e-02, 0.0000e+00, 1.5258e-03, 4.7654e-03],\n",
       "        [1.4330e-02, 0.0000e+00, 6.0556e-03, 1.2336e-02],\n",
       "        [2.0785e-02, 0.0000e+00, 0.0000e+00, 1.4587e-02],\n",
       "        [1.2617e-02, 0.0000e+00, 0.0000e+00, 1.6060e-02],\n",
       "        [2.1105e-02, 6.3266e-03, 0.0000e+00, 0.0000e+00],\n",
       "        [1.9460e-02, 8.2628e-03, 2.9484e-03, 1.8655e-03],\n",
       "        [1.5316e-02, 6.3857e-03, 0.0000e+00, 3.5437e-03],\n",
       "        [1.9277e-03, 1.6448e-03, 0.0000e+00, 1.8838e-03],\n",
       "        [9.8504e-03, 0.0000e+00, 0.0000e+00, 9.6433e-03],\n",
       "        [2.9629e-03, 1.2608e-03, 0.0000e+00, 9.6034e-03],\n",
       "        [1.9294e-02, 0.0000e+00, 0.0000e+00, 1.1924e-02],\n",
       "        [1.5988e-02, 0.0000e+00, 2.7824e-03, 0.0000e+00],\n",
       "        [1.7653e-02, 0.0000e+00, 0.0000e+00, 1.6092e-02],\n",
       "        [2.1364e-02, 2.1326e-04, 0.0000e+00, 5.8501e-03],\n",
       "        [2.1304e-02, 1.7348e-02, 0.0000e+00, 1.2210e-02],\n",
       "        [1.3154e-03, 2.6155e-05, 1.9124e-05, 1.1163e-02],\n",
       "        [1.7422e-02, 1.0070e-02, 7.1989e-03, 0.0000e+00],\n",
       "        [1.5445e-02, 0.0000e+00, 0.0000e+00, 1.6849e-03],\n",
       "        [2.3654e-02, 2.2148e-03, 0.0000e+00, 1.0836e-03],\n",
       "        [2.0789e-02, 0.0000e+00, 0.0000e+00, 0.0000e+00],\n",
       "        [1.1979e-02, 5.0539e-03, 0.0000e+00, 6.2080e-03]], device='cuda:0',\n",
       "       grad_fn=<ReluBackward0>)"
      ]
     },
     "execution_count": 124,
     "metadata": {},
     "output_type": "execute_result"
    }
   ],
   "source": [
    "answer"
   ]
  },
  {
   "cell_type": "code",
   "execution_count": null,
   "metadata": {},
   "outputs": [],
   "source": []
  }
 ],
 "metadata": {
  "kernelspec": {
   "display_name": "Python 3",
   "language": "python",
   "name": "python3"
  },
  "language_info": {
   "codemirror_mode": {
    "name": "ipython",
    "version": 3
   },
   "file_extension": ".py",
   "mimetype": "text/x-python",
   "name": "python",
   "nbconvert_exporter": "python",
   "pygments_lexer": "ipython3",
   "version": "3.6.9"
  }
 },
 "nbformat": 4,
 "nbformat_minor": 2
}
