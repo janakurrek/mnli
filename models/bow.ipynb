{
 "cells": [
  {
   "cell_type": "code",
   "execution_count": 75,
   "metadata": {},
   "outputs": [],
   "source": [
    "import pandas as pd\n",
    "import numpy as np\n",
    "import seaborn as sns\n",
    "import matplotlib.pyplot as plt\n",
    "import spacy\n",
    "\n",
    "import sys\n",
    "sys.path.append('..')\n",
    "\n",
    "from utils.load_data import GLOVE_PATH, MNLI_PATH, LABEL_TO_INT"
   ]
  },
  {
   "cell_type": "code",
   "execution_count": 76,
   "metadata": {},
   "outputs": [],
   "source": [
    "GOLD_LABELS = {'contradiction', 'entailment', 'neutral'}\n",
    "\n",
    "df = pd.read_json(MNLI_PATH, lines=True)\n",
    "df = df[df['gold_label'].isin(GOLD_LABELS)]"
   ]
  },
  {
   "cell_type": "code",
   "execution_count": null,
   "metadata": {},
   "outputs": [],
   "source": [
    "nlp = spacy.load(\"en\") "
   ]
  },
  {
   "cell_type": "code",
   "execution_count": null,
   "metadata": {},
   "outputs": [],
   "source": [
    "df[\"tokens1\"] = df[\"sentence1\"].apply(lambda s: nlp(s.lower()))\n",
    "df[\"tokens2\"] = df[\"sentence2\"].apply(lambda s: nlp(s.lower()))"
   ]
  },
  {
   "cell_type": "code",
   "execution_count": null,
   "metadata": {},
   "outputs": [],
   "source": [
    "df[\"token_difference\"] = [set(list(tks1)).difference(set(list(tks2))) for tks1, tks2 in zip(df['tokens1'], df['tokens2'])]"
   ]
  },
  {
   "cell_type": "code",
   "execution_count": null,
   "metadata": {},
   "outputs": [],
   "source": [
    "df[\"similarity\"] = [tks1.similarity(tks2) for tks1, tks2 in zip(df['tokens1'], df['tokens2'])]\n",
    "df[\"difference\"] = df[\"token_difference\"].str.len()"
   ]
  },
  {
   "cell_type": "code",
   "execution_count": null,
   "metadata": {},
   "outputs": [],
   "source": [
    "for label in GOLD_LABELS:\n",
    "    similarity = df[df[\"gold_label\"]==label][\"similarity\"]\n",
    "    difference = df[df[\"gold_label\"]==label][\"difference\"]\n",
    "    print(label, np.mean(similarity), np.mean(difference))\n",
    "    sns.distplot(similarity)\n",
    "    plt.show()"
   ]
  },
  {
   "cell_type": "code",
   "execution_count": null,
   "metadata": {},
   "outputs": [],
   "source": [
    "df[\"sentence\"] = df[\"token_difference\"].apply(lambda s: ' '.join([str(tk) for tk in s]))"
   ]
  },
  {
   "cell_type": "code",
   "execution_count": null,
   "metadata": {},
   "outputs": [],
   "source": [
    "train, validate, test = np.split(\n",
    "        df.sample(frac=1), [int(.6*len(df)),int(.8*len(df))]\n",
    "    )\n",
    "\n",
    "train.to_csv(\"../utils/train_bow.csv\")\n",
    "validate.to_csv(\"../utils/val_bow.csv\")\n",
    "test.to_csv(\"../utils/test_bow.csv\")"
   ]
  },
  {
   "cell_type": "code",
   "execution_count": null,
   "metadata": {},
   "outputs": [],
   "source": []
  }
 ],
 "metadata": {
  "kernelspec": {
   "display_name": "Python 3",
   "language": "python",
   "name": "python3"
  },
  "language_info": {
   "codemirror_mode": {
    "name": "ipython",
    "version": 3
   },
   "file_extension": ".py",
   "mimetype": "text/x-python",
   "name": "python",
   "nbconvert_exporter": "python",
   "pygments_lexer": "ipython3",
   "version": "3.6.9"
  }
 },
 "nbformat": 4,
 "nbformat_minor": 2
}
