{
  "nbformat": 4,
  "nbformat_minor": 0,
  "metadata": {
    "colab": {
      "name": "BiLSTM+Attention",
      "provenance": [],
      "collapsed_sections": [],
      "authorship_tag": "ABX9TyP8hiwHxPGp2vDWFP/M9RWv",
      "include_colab_link": true
    },
    "kernelspec": {
      "name": "python3",
      "display_name": "Python 3"
    },
    "accelerator": "GPU"
  },
  "cells": [
    {
      "cell_type": "markdown",
      "metadata": {
        "id": "view-in-github",
        "colab_type": "text"
      },
      "source": [
        "<a href=\"https://colab.research.google.com/github/janakurrek/mnli/blob/master/BiLSTM%2BAttention.ipynb\" target=\"_parent\"><img src=\"https://colab.research.google.com/assets/colab-badge.svg\" alt=\"Open In Colab\"/></a>"
      ]
    },
    {
      "cell_type": "code",
      "metadata": {
        "id": "h7vTo9RmlZUt",
        "colab": {
          "base_uri": "https://localhost:8080/"
        },
        "outputId": "a468ae3f-f72e-4f43-8cde-ee63cf80789a"
      },
      "source": [
        "import json\n",
        "import torch\n",
        "import wget\n",
        "import os\n",
        "from tqdm.notebook import tqdm\n",
        "import pandas as pd\n",
        "from sklearn.model_selection import train_test_split\n",
        "from transformers import BertTokenizer\n",
        "\n",
        "print('Downloading dataset...')\n",
        "\n",
        "# The URL for the dataset file.\n",
        "url = 'https://raw.githubusercontent.com/networkdynamics/slur-corpus/main/kurrek.2020.slur-corpus.json'\n",
        "datapath = './kurrek.2020.slur-corpus.json'\n",
        "\n",
        "# Download the file (if we haven't already).\n",
        "if not os.path.exists(datapath):\n",
        "  wget.download(url, datapath)\n",
        "\n",
        "corpus = []\n",
        "with open(datapath) as f:\n",
        "    for line in f:\n",
        "        corpus.append(json.loads(line))\n",
        "\n",
        "corpus = pd.DataFrame(corpus)\n",
        "\n",
        "# remove CMP classes\n",
        "corpus.drop(corpus[corpus.gold_label == 'CMP'].index, inplace=True)\n",
        "corpus['binary_label'] = corpus['gold_label']\n",
        "corpus['binary_label'] = corpus['binary_label'].replace(['APR', 'HOM'], 'NDG')\n",
        "corpus['clean_labels'] = pd.factorize(corpus.binary_label)[0]\n",
        "\n",
        "# split into test, train, validation\n",
        "from sklearn.model_selection import train_test_split\n",
        "\n",
        "X = corpus.body\n",
        "y = corpus.clean_labels\n",
        "\n",
        "# split test and training set\n",
        "X_train, X_test, y_train, y_test = train_test_split(X, y, test_size=0.2, random_state=1)\n",
        "X_train, X_val, y_train, y_val = train_test_split(X_train, y_train, test_size=0.25, random_state=1)\n",
        "\n",
        "datapath_trn, datapath_val, datapath_tst = \"./kurrek.2020-slur-corpus-trn.json\",\\\n",
        "                                            \"./kurrek.2020-slur-corpus-val.json\",\\\n",
        "                                            \"./kurrek.2020-slur-corpus-tst.json\"\n",
        "corpus.to_json(datapath_trn)\n",
        "corpus.to_json(datapath_val)\n",
        "corpus.to_json(datapath_tst)"
      ],
      "execution_count": 1,
      "outputs": [
        {
          "output_type": "stream",
          "text": [
            "Downloading dataset...\n"
          ],
          "name": "stdout"
        }
      ]
    },
    {
      "cell_type": "markdown",
      "metadata": {
        "id": "xtK1xNZmo2th"
      },
      "source": [
        "**Pay \"Attention\" to Your Context**\n",
        "\n",
        "https://www.aclweb.org/anthology/W19-3508.pdf\n",
        "\n",
        "https://github.com/tuhinjubcse/ALW3-ACL2019\n",
        "\n",
        "https://www.aclweb.org/anthology/N16-1174/\n",
        "\n",
        "https://github.com/uvipen/Hierarchical-attention-networks-pytorch/blob/master/src/utils.py\n",
        "\n",
        "\n",
        "*   Stacked Bi-LSTM models outperformed the simple Bi-LSTM models\n",
        "*   Best performing model on abusive language datasets is the stacked Bi-LSTM with contextual attention\n",
        "\n"
      ]
    },
    {
      "cell_type": "code",
      "metadata": {
        "colab": {
          "base_uri": "https://localhost:8080/"
        },
        "id": "axeLdhvyG5tI",
        "outputId": "4560e717-b7d0-4b2a-8ac2-43b228cd9e39"
      },
      "source": [
        "from torchtext import data\n",
        "from torchtext.vocab import GloVe\n",
        "\n",
        "max_input_len = 320\n",
        "\n",
        "# tokenizer settings\n",
        "tokenizer = BertTokenizer.from_pretrained('bert-base-uncased', do_lower_case=True)\n",
        "\n",
        "unk_token_idx = tokenizer.unk_token_id\n",
        "pad_token_idx = tokenizer.pad_token_id\n",
        "\n",
        "\n",
        "def tokenize_and_cut(sentence, max_input_length = 320):\n",
        "    tokens = tokenizer.tokenize(sentence)\n",
        "    tokens = tokens[:max_input_length - 2]\n",
        "    return tokens\n",
        "\n",
        "# load inputs and labels\n",
        "TEXT = data.Field(batch_first=True, use_vocab=False, tokenize=tokenize_and_cut,\n",
        "                  preprocessing=tokenizer.convert_tokens_to_ids,\n",
        "                  pad_token=pad_token_idx, unk_token=unk_token_idx)\n",
        "\n",
        "LABEL = data.Field(\n",
        "    sequential=False,\n",
        "    dtype=torch.float\n",
        ")\n",
        "\n",
        "# split into training, testing, validation set\n",
        "D_trn = data.TabularDataset(\n",
        "    path=datapath_trn, format='json',\n",
        "    fields={'body': ('text', TEXT),\n",
        "            'clean_labels': ('labels', LABEL)})\n",
        "\n",
        "D_val = data.TabularDataset(\n",
        "    path=datapath_val, format='json',\n",
        "    fields={'body': ('text', TEXT),\n",
        "            'clean_labels': ('labels', LABEL)})\n",
        "\n",
        "D_tst = data.TabularDataset(\n",
        "    path=datapath_tst, format='json',\n",
        "    fields={'body': ('text', TEXT),\n",
        "            'clean_labels': ('labels', LABEL)})\n",
        "\n",
        "# build vocabulary and count tokens\n",
        "TEXT.build_vocab(D_trn)\n",
        "LABEL.build_vocab(D_trn)"
      ],
      "execution_count": 14,
      "outputs": [
        {
          "output_type": "stream",
          "text": [
            "/usr/local/lib/python3.6/dist-packages/torchtext/data/field.py:150: UserWarning: Field class will be retired soon and moved to torchtext.legacy. Please see the most recent release notes for further information.\n",
            "  warnings.warn('{} class will be retired soon and moved to torchtext.legacy. Please see the most recent release notes for further information.'.format(self.__class__.__name__), UserWarning)\n",
            "/usr/local/lib/python3.6/dist-packages/torchtext/data/example.py:13: UserWarning: Example class will be retired soon and moved to torchtext.legacy. Please see the most recent release notes for further information.\n",
            "  warnings.warn('Example class will be retired soon and moved to torchtext.legacy. Please see the most recent release notes for further information.', UserWarning)\n"
          ],
          "name": "stderr"
        }
      ]
    },
    {
      "cell_type": "code",
      "metadata": {
        "colab": {
          "base_uri": "https://localhost:8080/"
        },
        "id": "7Uk7gtstxcjL",
        "outputId": "e5b9fb32-e3d1-4f34-de60-7707c669f4e5"
      },
      "source": [
        "# load fasttext vectors\n",
        "# TEXT.vocab.load_vectors('glove.twitter.27B.100d')\n",
        "print(f\"Unique tokens in text vocabulary: {len(TEXT.vocab)}\")"
      ],
      "execution_count": 16,
      "outputs": [
        {
          "output_type": "stream",
          "text": [
            "Unique tokens in text vocabulary: 849\n"
          ],
          "name": "stdout"
        }
      ]
    },
    {
      "cell_type": "code",
      "metadata": {
        "colab": {
          "base_uri": "https://localhost:8080/",
          "height": 223
        },
        "id": "Gcwf4EghTHfH",
        "outputId": "80b4bf33-21e9-49df-e4fa-2dc9c7f6a8e4"
      },
      "source": [
        "\"\"\"Hyperparameters\"\"\"\n",
        "# training\n",
        "num_epochs = 4\n",
        "learning_rate = 0.001\n",
        "batch_size = 128\n",
        "\n",
        "# model hyperparameters\n",
        "load_model = False\n",
        "device = torch.device('cuda' if torch.cuda.is_available() else 'cpu')\n",
        "input_size = len(source.vocab)\n",
        "output_size = len(labels)\n",
        "embed_size = 50\n",
        "hidden_size = 1024 # 2014 benchmark; slightly small\n",
        "num_layers = 2 # benchmark did 4\n",
        "enc_dropout = 0.5\n",
        "dec_dropout = 0.5\n",
        "\n",
        "\"\"\"Keon Attention Class\"\"\"\n",
        "class Attention(nn.Module):\n",
        "    def __init__(self, hidden_size):\n",
        "        super(Attention, self).__init__()\n",
        "        \n",
        "        self.hidden_size = hidden_size\n",
        "        self.attn = nn.Linear(self.hidden_size * 4, hidden_size)\n",
        "        self.v = nn.Parameter(torch.rand(hidden_size))\n",
        "        stdv = 1. / math.sqrt(self.v.size(0))\n",
        "        self.v.data.uniform_(-stdv, stdv)\n",
        "\n",
        "    def forward(self, hidden, encoder_outputs):\n",
        "        hidden = hidden.reshape((1, hidden.shape[1], hidden.shape[2] * 2))\n",
        "        timestep = encoder_outputs.size(0)\n",
        "        h = hidden.repeat(timestep, 1, 1).transpose(0, 1)\n",
        "        encoder_outputs = encoder_outputs.transpose(0, 1)  # [B*T*H]\n",
        "        attn_energies = self.score(h, encoder_outputs)\n",
        "        return F.softmax(attn_energies, dim=1).unsqueeze(1)\n",
        "\n",
        "    def score(self, hidden, encoder_outputs):\n",
        "        # [B*T*2H]->[B*T*H]\n",
        "        catted = torch.cat([hidden, encoder_outputs], 2)\n",
        "        energy = F.relu(self.attn(catted))\n",
        "        energy = energy.transpose(1, 2)  # [B*H*T]\n",
        "        v = self.v.repeat(encoder_outputs.size(0), 1).unsqueeze(1)  # [B*1*H]\n",
        "        energy = torch.bmm(v, energy)  # [B*1*T]\n",
        "        return energy.squeeze(1)  # [B*T]\n",
        "\n",
        "\"\"\"Classifier\"\"\"\n",
        "class MultiNLIModel(nn.Module):\n",
        "    def __init__(self, input_size, output_size, embed_size, device,\n",
        "                 hidden_size, batch_size, dropout, n_layers, n_cells):\n",
        "        \n",
        "        super(MultiNLIModel, self).__init__()\n",
        "        \n",
        "        self.device = device\n",
        "        self.batch_size = batch_size\n",
        "        self.hidden_size = hidden_size\n",
        "        self.n_cells = n_cells\n",
        "        \n",
        "        self.relu = nn.ReLU()\n",
        "        self.dropout = nn.Dropout(dropout)\n",
        "        self.embed = nn.Embedding(input_size, embed_size)\n",
        "        self.attention = Attention(hidden_size)\n",
        "        self.lstm = nn.LSTM(embed_size, hidden_size,\n",
        "                            num_layers=n_layers, dropout=dropout, \n",
        "                            bidirectional=True)\n",
        "        \n",
        "        self.fc_hidden = nn.Linear(hidden_size * 2, hidden_size, bias=False)\n",
        "        self.fc_output = nn.Linear(hidden_size,  output_size, bias=False)\n",
        "    \n",
        "    def encode(self, embed):\n",
        "        # pass embedding input through lstm\n",
        "        state_shape = self.n_cells, self.batch_size, self.hidden_size\n",
        "        h0 = c0 = embed.new_zeros(state_shape)\n",
        "        outputs, (ht, ct) = self.lstm(embed, (h0, c0))\n",
        "\n",
        "        # pass outcomes through attention layer\n",
        "        weights = self.attention(ht[-2:], outputs)\n",
        "        context = weights.bmm(outputs.transpose(0, 1))\n",
        "        context = context.transpose(0, 1)\n",
        "        context = context.squeeze(0)\n",
        "        return context\n",
        "        \n",
        "    def forward(self, comment):\n",
        "        # seq_length, batch_size, embed_size\n",
        "        comment_embed = self.dropout(self.embed(comment))\n",
        "        comment_contx = self.encode(comment)\n",
        "        # seq_len, hidden_size * 2\n",
        "        comment_contx = self.relu(self.fc_hidden(comment_contx))\n",
        "        # hidden_size * 2, output_size\n",
        "        comment_contx = self.relu(self.fc_output(comment_contx))\n",
        "        return pair_output\n",
        "\n",
        "train_iterator, valid_iterator, test_iterator = data.BucketIterator.splits(\n",
        "    (D_trn, D_val, D_tst), \n",
        "     batch_size = batch_size,\n",
        "     sort_within_batch = True,\n",
        "     sort_key = lambda x: len(x.text), # minimize padding\n",
        "     device = device)\n",
        "\n",
        "encoder = Encoder(input_size, embed_size, hidden_size,\n",
        "                  n_layers, enc_dropout).to(device)\n",
        "\n",
        "decoder = Decoder(input_size, embed_size, hidden_size,\n",
        "                  output_size, n_layers, dec_dropout).to(device)\n",
        "\n",
        "model = Classifier(encoder, decoder).to(device)\n",
        "\n",
        "pad_idx_in_vocab = source.vocab.stoi[\"<pad\"]\n",
        "criterion = nn.CrossEntropyLoss(ignore_index=pad_idx_in_vocab)\n",
        "optimizer = torch.optim.Adam(model.parameters(), lr=learning_rate)"
      ],
      "execution_count": 17,
      "outputs": [
        {
          "output_type": "error",
          "ename": "NameError",
          "evalue": "ignored",
          "traceback": [
            "\u001b[0;31m---------------------------------------------------------------------------\u001b[0m",
            "\u001b[0;31mNameError\u001b[0m                                 Traceback (most recent call last)",
            "\u001b[0;32m<ipython-input-17-88e30cec4be0>\u001b[0m in \u001b[0;36m<module>\u001b[0;34m()\u001b[0m\n\u001b[1;32m      8\u001b[0m \u001b[0mload_model\u001b[0m \u001b[0;34m=\u001b[0m \u001b[0;32mFalse\u001b[0m\u001b[0;34m\u001b[0m\u001b[0;34m\u001b[0m\u001b[0m\n\u001b[1;32m      9\u001b[0m \u001b[0mdevice\u001b[0m \u001b[0;34m=\u001b[0m \u001b[0mtorch\u001b[0m\u001b[0;34m.\u001b[0m\u001b[0mdevice\u001b[0m\u001b[0;34m(\u001b[0m\u001b[0;34m'cuda'\u001b[0m \u001b[0;32mif\u001b[0m \u001b[0mtorch\u001b[0m\u001b[0;34m.\u001b[0m\u001b[0mcuda\u001b[0m\u001b[0;34m.\u001b[0m\u001b[0mis_available\u001b[0m\u001b[0;34m(\u001b[0m\u001b[0;34m)\u001b[0m \u001b[0;32melse\u001b[0m \u001b[0;34m'cpu'\u001b[0m\u001b[0;34m)\u001b[0m\u001b[0;34m\u001b[0m\u001b[0;34m\u001b[0m\u001b[0m\n\u001b[0;32m---> 10\u001b[0;31m \u001b[0minput_size\u001b[0m \u001b[0;34m=\u001b[0m \u001b[0mlen\u001b[0m\u001b[0;34m(\u001b[0m\u001b[0msource\u001b[0m\u001b[0;34m.\u001b[0m\u001b[0mvocab\u001b[0m\u001b[0;34m)\u001b[0m\u001b[0;34m\u001b[0m\u001b[0;34m\u001b[0m\u001b[0m\n\u001b[0m\u001b[1;32m     11\u001b[0m \u001b[0moutput_size\u001b[0m \u001b[0;34m=\u001b[0m \u001b[0mlen\u001b[0m\u001b[0;34m(\u001b[0m\u001b[0mlabels\u001b[0m\u001b[0;34m)\u001b[0m\u001b[0;34m\u001b[0m\u001b[0;34m\u001b[0m\u001b[0m\n\u001b[1;32m     12\u001b[0m \u001b[0membed_size\u001b[0m \u001b[0;34m=\u001b[0m \u001b[0;36m50\u001b[0m\u001b[0;34m\u001b[0m\u001b[0;34m\u001b[0m\u001b[0m\n",
            "\u001b[0;31mNameError\u001b[0m: name 'source' is not defined"
          ]
        }
      ]
    },
    {
      "cell_type": "code",
      "metadata": {
        "id": "cj83DE_YooVu"
      },
      "source": [
        ""
      ],
      "execution_count": null,
      "outputs": []
    }
  ]
}