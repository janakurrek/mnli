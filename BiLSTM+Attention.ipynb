{
  "nbformat": 4,
  "nbformat_minor": 0,
  "metadata": {
    "colab": {
      "name": "BiLSTM+Attention",
      "provenance": [],
      "collapsed_sections": [],
      "authorship_tag": "ABX9TyMm2C4uKc+rTRTswAzJOx+/",
      "include_colab_link": true
    },
    "kernelspec": {
      "name": "python3",
      "display_name": "Python 3"
    },
    "accelerator": "GPU"
  },
  "cells": [
    {
      "cell_type": "markdown",
      "metadata": {
        "id": "view-in-github",
        "colab_type": "text"
      },
      "source": [
        "<a href=\"https://colab.research.google.com/github/janakurrek/mnli/blob/master/BiLSTM%2BAttention.ipynb\" target=\"_parent\"><img src=\"https://colab.research.google.com/assets/colab-badge.svg\" alt=\"Open In Colab\"/></a>"
      ]
    },
    {
      "cell_type": "code",
      "metadata": {
        "id": "h7vTo9RmlZUt",
        "colab": {
          "base_uri": "https://localhost:8080/"
        },
        "outputId": "7c65fcd9-9f10-4fc3-e51b-9465fb52ea08"
      },
      "source": [
        "from google.colab import drive\n",
        "drive.mount('/content/drive/')"
      ],
      "execution_count": 50,
      "outputs": [
        {
          "output_type": "stream",
          "text": [
            "Drive already mounted at /content/drive/; to attempt to forcibly remount, call drive.mount(\"/content/drive/\", force_remount=True).\n",
            "Downloading dataset...\n"
          ],
          "name": "stdout"
        }
      ]
    },
    {
      "cell_type": "code",
      "metadata": {
        "colab": {
          "base_uri": "https://localhost:8080/",
          "height": 207
        },
        "id": "aIVNPlD_42LQ",
        "outputId": "c84c2a05-f663-45b8-96bf-1b6d8d6c7f37"
      },
      "source": [
        "import json\n",
        "import torch\n",
        "import wget\n",
        "import os\n",
        "from tqdm.notebook import tqdm\n",
        "import pandas as pd\n",
        "from sklearn.model_selection import train_test_split\n",
        "from transformers import BertTokenizer\n",
        "\n",
        "print('Downloading dataset...')\n",
        "\n",
        "# The URL for the dataset file.\n",
        "url = 'https://raw.githubusercontent.com/networkdynamics/slur-corpus/main/kurrek.2020.slur-corpus.json'\n",
        "datapath = './kurrek.2020.slur-corpus.json'\n",
        "\n",
        "# Download the file (if we haven't already).\n",
        "if not os.path.exists(datapath):\n",
        "  wget.download(url, datapath)\n",
        "\n",
        "corpus = []\n",
        "with open(datapath) as f:\n",
        "    for line in f:\n",
        "        corpus.append(json.loads(line))\n",
        "\n",
        "corpus = pd.DataFrame(corpus)\n",
        "\n",
        "# remove CMP classes\n",
        "corpus.drop(corpus[corpus.gold_label == 'CMP'].index, inplace=True)\n",
        "corpus['binary_label'] = corpus['gold_label']\n",
        "corpus['binary_label'] = corpus['binary_label'].replace(['APR', 'HOM'], 'NDG')\n",
        "corpus['clean_labels'] = pd.factorize(corpus.binary_label)[0]\n",
        "\n",
        "clean_datapath = '/content/drive/My Drive/Colab Notebooks/kurrek.2020.slur-corpus-clean.tsv'\n",
        "corpus.to_csv(clean_datapath, sep='\\t')\n",
        "\n",
        "clean_corpus = pd.read_csv(clean_datapath, sep='\\t')\n",
        "clean_corpus[['body','clean_labels']].head()"
      ],
      "execution_count": 69,
      "outputs": [
        {
          "output_type": "stream",
          "text": [
            "Downloading dataset...\n"
          ],
          "name": "stdout"
        },
        {
          "output_type": "execute_result",
          "data": {
            "text/html": [
              "<div>\n",
              "<style scoped>\n",
              "    .dataframe tbody tr th:only-of-type {\n",
              "        vertical-align: middle;\n",
              "    }\n",
              "\n",
              "    .dataframe tbody tr th {\n",
              "        vertical-align: top;\n",
              "    }\n",
              "\n",
              "    .dataframe thead th {\n",
              "        text-align: right;\n",
              "    }\n",
              "</style>\n",
              "<table border=\"1\" class=\"dataframe\">\n",
              "  <thead>\n",
              "    <tr style=\"text-align: right;\">\n",
              "      <th></th>\n",
              "      <th>body</th>\n",
              "      <th>clean_labels</th>\n",
              "    </tr>\n",
              "  </thead>\n",
              "  <tbody>\n",
              "    <tr>\n",
              "      <th>0</th>\n",
              "      <td>Fuck that I dont wanna watch tranny porn.</td>\n",
              "      <td>0.0</td>\n",
              "    </tr>\n",
              "    <tr>\n",
              "      <th>1</th>\n",
              "      <td>Opie just wanted to have a good time. The same...</td>\n",
              "      <td>0.0</td>\n",
              "    </tr>\n",
              "    <tr>\n",
              "      <th>2</th>\n",
              "      <td>Fuck that faggot Fallon. Fucking sissy boy act...</td>\n",
              "      <td>0.0</td>\n",
              "    </tr>\n",
              "    <tr>\n",
              "      <th>3</th>\n",
              "      <td>BbBB...b.b..b.bb but OP's a faggot</td>\n",
              "      <td>0.0</td>\n",
              "    </tr>\n",
              "    <tr>\n",
              "      <th>4</th>\n",
              "      <td>Who even uses the word tranny except for trans...</td>\n",
              "      <td>1.0</td>\n",
              "    </tr>\n",
              "  </tbody>\n",
              "</table>\n",
              "</div>"
            ],
            "text/plain": [
              "                                                body  clean_labels\n",
              "0         Fuck that I dont wanna watch tranny porn.            0.0\n",
              "1  Opie just wanted to have a good time. The same...           0.0\n",
              "2  Fuck that faggot Fallon. Fucking sissy boy act...           0.0\n",
              "3                 BbBB...b.b..b.bb but OP's a faggot           0.0\n",
              "4  Who even uses the word tranny except for trans...           1.0"
            ]
          },
          "metadata": {
            "tags": []
          },
          "execution_count": 69
        }
      ]
    },
    {
      "cell_type": "markdown",
      "metadata": {
        "id": "xtK1xNZmo2th"
      },
      "source": [
        "**Pay \"Attention\" to Your Context**\n",
        "\n",
        "https://www.aclweb.org/anthology/W19-3508.pdf\n",
        "\n",
        "https://github.com/tuhinjubcse/ALW3-ACL2019\n",
        "\n",
        "https://www.aclweb.org/anthology/N16-1174/\n",
        "\n",
        "https://github.com/uvipen/Hierarchical-attention-networks-pytorch/blob/master/src/utils.py\n",
        "\n",
        "\n",
        "*   Stacked Bi-LSTM models outperformed the simple Bi-LSTM models\n",
        "*   Best performing model on abusive language datasets is the stacked Bi-LSTM with contextual attention\n",
        "\n"
      ]
    },
    {
      "cell_type": "code",
      "metadata": {
        "id": "axeLdhvyG5tI"
      },
      "source": [
        "from torchtext import data\n",
        "from torchtext.vocab import GloVe\n",
        "import random\n",
        "\n",
        "max_input_len = 320\n",
        "\n",
        "# tokenizer settings\n",
        "tokenizer = BertTokenizer.from_pretrained('bert-base-uncased', do_lower_case=True)\n",
        "\n",
        "unk_token_idx = tokenizer.unk_token_id\n",
        "pad_token_idx = tokenizer.pad_token_id\n",
        "\n",
        "def tokenize_and_cut(sentence, max_input_length = 320):\n",
        "    tokens = tokenizer.tokenize(sentence)\n",
        "    tokens = tokens[:max_input_length - 2]\n",
        "    return tokens\n",
        "\n",
        "# load text inputs and labels\n",
        "TEXT = data.Field(batch_first=True, use_vocab=False, tokenize=tokenize_and_cut,\n",
        "                  preprocessing=tokenizer.convert_tokens_to_ids,\n",
        "                  pad_token=pad_token_idx, unk_token=unk_token_idx)\n",
        "\n",
        "LABELS = data.Field(\n",
        "    sequential=False,\n",
        "    dtype=torch.float\n",
        ")\n",
        "\n",
        "# split into training, testing, validation set\n",
        "dataset = data.TabularDataset(\n",
        "    path=datapath, format='json',\n",
        "    fields={'body': ('text', TEXT),\n",
        "            'gold_label': ('labels', LABELS)}\n",
        ")\n",
        "\n",
        "D_trn, D_val, D_tst = dataset.split(split_ratio=[0.7, 0.1, 0.2], random_state=random.getstate())\n",
        "\n",
        "# build vocabulary and count tokens\n",
        "TEXT.build_vocab(D_trn)\n",
        "LABELS.build_vocab(D_trn)"
      ],
      "execution_count": 93,
      "outputs": []
    },
    {
      "cell_type": "code",
      "metadata": {
        "colab": {
          "base_uri": "https://localhost:8080/"
        },
        "id": "7Uk7gtstxcjL",
        "outputId": "0a81cabe-f39d-4ae9-f47c-edd51dc3b69f"
      },
      "source": [
        "print(f\"Unique tokens in text vocabulary: {len(TEXT.vocab)}\")"
      ],
      "execution_count": 94,
      "outputs": [
        {
          "output_type": "stream",
          "text": [
            "Unique tokens in text vocabulary: 18654\n"
          ],
          "name": "stdout"
        }
      ]
    },
    {
      "cell_type": "code",
      "metadata": {
        "id": "Gcwf4EghTHfH"
      },
      "source": [
        "import torch.nn as nn\n",
        "import math\n",
        "\n",
        "\"\"\"Hyperparameters\"\"\"\n",
        "# training\n",
        "num_epochs = 4\n",
        "learning_rate = 0.001\n",
        "batch_size = 128\n",
        "\n",
        "# model hyperparameters\n",
        "load_model = False\n",
        "device = torch.device('cuda' if torch.cuda.is_available() else 'cpu')\n",
        "input_size = len(TEXT.vocab)\n",
        "output_size = 2 #  binary classification\n",
        "embed_size = 50\n",
        "hidden_size = 1024 # 2014 benchmark; slightly small\n",
        "num_layers = 2 # benchmark did 4\n",
        "dropout = 0.5\n",
        "n_cells = input_size # placeholder\n",
        "\n",
        "\"\"\"Keon Attention Class\"\"\"\n",
        "class Attention(nn.Module):\n",
        "    def __init__(self, hidden_size):\n",
        "        super(Attention, self).__init__()\n",
        "        \n",
        "        self.hidden_size = hidden_size\n",
        "        self.attn = nn.Linear(self.hidden_size * 4, hidden_size)\n",
        "        self.v = nn.Parameter(torch.rand(hidden_size))\n",
        "        stdv = 1. / math.sqrt(self.v.size(0))\n",
        "        self.v.data.uniform_(-stdv, stdv)\n",
        "\n",
        "    def forward(self, hidden, encoder_outputs):\n",
        "        hidden = hidden.reshape((1, hidden.shape[1], hidden.shape[2] * 2))\n",
        "        timestep = encoder_outputs.size(0)\n",
        "        h = hidden.repeat(timestep, 1, 1).transpose(0, 1)\n",
        "        encoder_outputs = encoder_outputs.transpose(0, 1)  # [B*T*H]\n",
        "        attn_energies = self.score(h, encoder_outputs)\n",
        "        return F.softmax(attn_energies, dim=1).unsqueeze(1)\n",
        "\n",
        "    def score(self, hidden, encoder_outputs):\n",
        "        # [B*T*2H]->[B*T*H]\n",
        "        catted = torch.cat([hidden, encoder_outputs], 2)\n",
        "        energy = F.relu(self.attn(catted))\n",
        "        energy = energy.transpose(1, 2)  # [B*H*T]\n",
        "        v = self.v.repeat(encoder_outputs.size(0), 1).unsqueeze(1)  # [B*1*H]\n",
        "        energy = torch.bmm(v, energy)  # [B*1*T]\n",
        "        return energy.squeeze(1)  # [B*T]\n",
        "\n",
        "\"\"\"Classifier\"\"\"\n",
        "class Classifier(nn.Module):\n",
        "    def __init__(self, input_size, output_size, embed_size, device,\n",
        "                 hidden_size, batch_size, dropout, n_layers, n_cells):\n",
        "        \n",
        "        super(Classifier, self).__init__()\n",
        "        \n",
        "        self.device = device\n",
        "        self.batch_size = batch_size\n",
        "        self.hidden_size = hidden_size\n",
        "        self.n_cells = n_cells\n",
        "        \n",
        "        self.relu = nn.ReLU()\n",
        "        self.dropout = nn.Dropout(dropout)\n",
        "        self.embed = nn.Embedding(input_size, embed_size)\n",
        "        self.attention = Attention(hidden_size)\n",
        "        self.lstm = nn.LSTM(embed_size, hidden_size,\n",
        "                            num_layers=n_layers, dropout=dropout, \n",
        "                            bidirectional=True)\n",
        "        \n",
        "        self.fc_hidden = nn.Linear(hidden_size * 2, hidden_size, bias=False)\n",
        "        self.fc_output = nn.Linear(hidden_size,  output_size, bias=False)\n",
        "    \n",
        "    def encode(self, embed):\n",
        "        # pass embedding input through lstm\n",
        "        state_shape = self.n_cells, self.batch_size, self.hidden_size\n",
        "        h0 = c0 = embed.new_zeros(state_shape)\n",
        "        outputs, (ht, ct) = self.lstm(embed, (h0, c0))\n",
        "\n",
        "        # pass outcomes through attention layer\n",
        "        weights = self.attention(ht[-2:], outputs)\n",
        "        context = weights.bmm(outputs.transpose(0, 1))\n",
        "        context = context.transpose(0, 1)\n",
        "        context = context.squeeze(0)\n",
        "        return context\n",
        "        \n",
        "    def forward(self, comment):\n",
        "        # seq_length, batch_size, embed_size\n",
        "        comment_embed = self.dropout(self.embed(comment))\n",
        "        comment_contx = self.encode(comment)\n",
        "        # seq_len, hidden_size * 2\n",
        "        comment_contx = self.relu(self.fc_hidden(comment_contx))\n",
        "        # hidden_size * 2, output_size\n",
        "        comment_contx = self.relu(self.fc_output(comment_contx))\n",
        "        return pair_output\n",
        "\n",
        "train_iterator, valid_iterator, test_iterator = data.BucketIterator.splits(\n",
        "    (D_trn, D_val, D_tst), \n",
        "     batch_size = batch_size,\n",
        "     sort_within_batch = True,\n",
        "     sort_key = lambda x: len(x.text), # minimize padding\n",
        "     device = device)\n",
        "\n",
        "model = Classifier(\n",
        "    input_size, output_size, embed_size, device,\n",
        "    hidden_size, batch_size, dropout, num_layers, n_cells\n",
        ").to(device)\n",
        "\n",
        "pad_idx_in_vocab = TEXT.vocab.stoi[\"<pad\"]\n",
        "criterion = nn.CrossEntropyLoss(ignore_index=pad_idx_in_vocab)\n",
        "optimizer = torch.optim.Adam(model.parameters(), lr=learning_rate)"
      ],
      "execution_count": 104,
      "outputs": []
    },
    {
      "cell_type": "code",
      "metadata": {
        "id": "cj83DE_YooVu"
      },
      "source": [
        ""
      ],
      "execution_count": null,
      "outputs": []
    }
  ]
}