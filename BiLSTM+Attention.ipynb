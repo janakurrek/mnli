{
  "nbformat": 4,
  "nbformat_minor": 0,
  "metadata": {
    "colab": {
      "name": "BiLSTM+Attention",
      "provenance": [],
      "collapsed_sections": [],
      "authorship_tag": "ABX9TyN6PE+C2Os+QWEDZwreN7HG",
      "include_colab_link": true
    },
    "kernelspec": {
      "name": "python3",
      "display_name": "Python 3"
    },
    "accelerator": "GPU",
    "widgets": {
      "application/vnd.jupyter.widget-state+json": {
        "87d5b3eb437b446d939bcf23314a1b28": {
          "model_module": "@jupyter-widgets/controls",
          "model_name": "HBoxModel",
          "state": {
            "_view_name": "HBoxView",
            "_dom_classes": [],
            "_model_name": "HBoxModel",
            "_view_module": "@jupyter-widgets/controls",
            "_model_module_version": "1.5.0",
            "_view_count": null,
            "_view_module_version": "1.5.0",
            "box_style": "",
            "layout": "IPY_MODEL_08cfc9eb77e14f40b23a0a3388011a58",
            "_model_module": "@jupyter-widgets/controls",
            "children": [
              "IPY_MODEL_62cf4bc2115d404d9473c753a08a0450",
              "IPY_MODEL_d67cc4bc805d4aad96a3329356c74fd9"
            ]
          }
        },
        "08cfc9eb77e14f40b23a0a3388011a58": {
          "model_module": "@jupyter-widgets/base",
          "model_name": "LayoutModel",
          "state": {
            "_view_name": "LayoutView",
            "grid_template_rows": null,
            "right": null,
            "justify_content": null,
            "_view_module": "@jupyter-widgets/base",
            "overflow": null,
            "_model_module_version": "1.2.0",
            "_view_count": null,
            "flex_flow": null,
            "width": null,
            "min_width": null,
            "border": null,
            "align_items": null,
            "bottom": null,
            "_model_module": "@jupyter-widgets/base",
            "top": null,
            "grid_column": null,
            "overflow_y": null,
            "overflow_x": null,
            "grid_auto_flow": null,
            "grid_area": null,
            "grid_template_columns": null,
            "flex": null,
            "_model_name": "LayoutModel",
            "justify_items": null,
            "grid_row": null,
            "max_height": null,
            "align_content": null,
            "visibility": null,
            "align_self": null,
            "height": null,
            "min_height": null,
            "padding": null,
            "grid_auto_rows": null,
            "grid_gap": null,
            "max_width": null,
            "order": null,
            "_view_module_version": "1.2.0",
            "grid_template_areas": null,
            "object_position": null,
            "object_fit": null,
            "grid_auto_columns": null,
            "margin": null,
            "display": null,
            "left": null
          }
        },
        "62cf4bc2115d404d9473c753a08a0450": {
          "model_module": "@jupyter-widgets/controls",
          "model_name": "FloatProgressModel",
          "state": {
            "_view_name": "ProgressView",
            "style": "IPY_MODEL_4e87f38400314783abe9aaf30a28e599",
            "_dom_classes": [],
            "description": "  0%",
            "_model_name": "FloatProgressModel",
            "bar_style": "danger",
            "max": 218,
            "_view_module": "@jupyter-widgets/controls",
            "_model_module_version": "1.5.0",
            "value": 0,
            "_view_count": null,
            "_view_module_version": "1.5.0",
            "orientation": "horizontal",
            "min": 0,
            "description_tooltip": null,
            "_model_module": "@jupyter-widgets/controls",
            "layout": "IPY_MODEL_e8eec8d07f544bafb048f1cbe2723e43"
          }
        },
        "d67cc4bc805d4aad96a3329356c74fd9": {
          "model_module": "@jupyter-widgets/controls",
          "model_name": "HTMLModel",
          "state": {
            "_view_name": "HTMLView",
            "style": "IPY_MODEL_c75324d8bef6417cb86dbd009b4d9f75",
            "_dom_classes": [],
            "description": "",
            "_model_name": "HTMLModel",
            "placeholder": "​",
            "_view_module": "@jupyter-widgets/controls",
            "_model_module_version": "1.5.0",
            "value": " 0/218 [00:00&lt;?, ?it/s]",
            "_view_count": null,
            "_view_module_version": "1.5.0",
            "description_tooltip": null,
            "_model_module": "@jupyter-widgets/controls",
            "layout": "IPY_MODEL_d3be1181c3654f31a65362b1e4738edb"
          }
        },
        "4e87f38400314783abe9aaf30a28e599": {
          "model_module": "@jupyter-widgets/controls",
          "model_name": "ProgressStyleModel",
          "state": {
            "_view_name": "StyleView",
            "_model_name": "ProgressStyleModel",
            "description_width": "initial",
            "_view_module": "@jupyter-widgets/base",
            "_model_module_version": "1.5.0",
            "_view_count": null,
            "_view_module_version": "1.2.0",
            "bar_color": null,
            "_model_module": "@jupyter-widgets/controls"
          }
        },
        "e8eec8d07f544bafb048f1cbe2723e43": {
          "model_module": "@jupyter-widgets/base",
          "model_name": "LayoutModel",
          "state": {
            "_view_name": "LayoutView",
            "grid_template_rows": null,
            "right": null,
            "justify_content": null,
            "_view_module": "@jupyter-widgets/base",
            "overflow": null,
            "_model_module_version": "1.2.0",
            "_view_count": null,
            "flex_flow": null,
            "width": null,
            "min_width": null,
            "border": null,
            "align_items": null,
            "bottom": null,
            "_model_module": "@jupyter-widgets/base",
            "top": null,
            "grid_column": null,
            "overflow_y": null,
            "overflow_x": null,
            "grid_auto_flow": null,
            "grid_area": null,
            "grid_template_columns": null,
            "flex": null,
            "_model_name": "LayoutModel",
            "justify_items": null,
            "grid_row": null,
            "max_height": null,
            "align_content": null,
            "visibility": null,
            "align_self": null,
            "height": null,
            "min_height": null,
            "padding": null,
            "grid_auto_rows": null,
            "grid_gap": null,
            "max_width": null,
            "order": null,
            "_view_module_version": "1.2.0",
            "grid_template_areas": null,
            "object_position": null,
            "object_fit": null,
            "grid_auto_columns": null,
            "margin": null,
            "display": null,
            "left": null
          }
        },
        "c75324d8bef6417cb86dbd009b4d9f75": {
          "model_module": "@jupyter-widgets/controls",
          "model_name": "DescriptionStyleModel",
          "state": {
            "_view_name": "StyleView",
            "_model_name": "DescriptionStyleModel",
            "description_width": "",
            "_view_module": "@jupyter-widgets/base",
            "_model_module_version": "1.5.0",
            "_view_count": null,
            "_view_module_version": "1.2.0",
            "_model_module": "@jupyter-widgets/controls"
          }
        },
        "d3be1181c3654f31a65362b1e4738edb": {
          "model_module": "@jupyter-widgets/base",
          "model_name": "LayoutModel",
          "state": {
            "_view_name": "LayoutView",
            "grid_template_rows": null,
            "right": null,
            "justify_content": null,
            "_view_module": "@jupyter-widgets/base",
            "overflow": null,
            "_model_module_version": "1.2.0",
            "_view_count": null,
            "flex_flow": null,
            "width": null,
            "min_width": null,
            "border": null,
            "align_items": null,
            "bottom": null,
            "_model_module": "@jupyter-widgets/base",
            "top": null,
            "grid_column": null,
            "overflow_y": null,
            "overflow_x": null,
            "grid_auto_flow": null,
            "grid_area": null,
            "grid_template_columns": null,
            "flex": null,
            "_model_name": "LayoutModel",
            "justify_items": null,
            "grid_row": null,
            "max_height": null,
            "align_content": null,
            "visibility": null,
            "align_self": null,
            "height": null,
            "min_height": null,
            "padding": null,
            "grid_auto_rows": null,
            "grid_gap": null,
            "max_width": null,
            "order": null,
            "_view_module_version": "1.2.0",
            "grid_template_areas": null,
            "object_position": null,
            "object_fit": null,
            "grid_auto_columns": null,
            "margin": null,
            "display": null,
            "left": null
          }
        }
      }
    }
  },
  "cells": [
    {
      "cell_type": "markdown",
      "metadata": {
        "id": "view-in-github",
        "colab_type": "text"
      },
      "source": [
        "<a href=\"https://colab.research.google.com/github/janakurrek/mnli/blob/master/BiLSTM%2BAttention.ipynb\" target=\"_parent\"><img src=\"https://colab.research.google.com/assets/colab-badge.svg\" alt=\"Open In Colab\"/></a>"
      ]
    },
    {
      "cell_type": "code",
      "metadata": {
        "id": "h7vTo9RmlZUt",
        "colab": {
          "base_uri": "https://localhost:8080/"
        },
        "outputId": "be8d10e7-d2b2-4af3-8074-6a790ecf9b49"
      },
      "source": [
        "from google.colab import drive\n",
        "drive.mount('/content/drive/')"
      ],
      "execution_count": 1,
      "outputs": [
        {
          "output_type": "stream",
          "text": [
            "Drive already mounted at /content/drive/; to attempt to forcibly remount, call drive.mount(\"/content/drive/\", force_remount=True).\n"
          ],
          "name": "stdout"
        }
      ]
    },
    {
      "cell_type": "code",
      "metadata": {
        "colab": {
          "base_uri": "https://localhost:8080/",
          "height": 207
        },
        "id": "aIVNPlD_42LQ",
        "outputId": "bc081234-716a-4be2-ef65-27722abec7cc"
      },
      "source": [
        "import json\n",
        "import torch\n",
        "import wget\n",
        "import os\n",
        "from tqdm.notebook import tqdm\n",
        "import pandas as pd\n",
        "from sklearn.model_selection import train_test_split\n",
        "from transformers import BertTokenizer\n",
        "from torchtext.utils import download_from_url\n",
        "\n",
        "print('Downloading dataset...')\n",
        "\n",
        "datapath = \"/content/drive/My Drive/colab-data/kurrek.2020.slur-corpus.tiny.csv\"\n",
        "pd.read_csv(datapath).head()"
      ],
      "execution_count": 2,
      "outputs": [
        {
          "output_type": "stream",
          "text": [
            "Downloading dataset...\n"
          ],
          "name": "stdout"
        },
        {
          "output_type": "execute_result",
          "data": {
            "text/html": [
              "<div>\n",
              "<style scoped>\n",
              "    .dataframe tbody tr th:only-of-type {\n",
              "        vertical-align: middle;\n",
              "    }\n",
              "\n",
              "    .dataframe tbody tr th {\n",
              "        vertical-align: top;\n",
              "    }\n",
              "\n",
              "    .dataframe thead th {\n",
              "        text-align: right;\n",
              "    }\n",
              "</style>\n",
              "<table border=\"1\" class=\"dataframe\">\n",
              "  <thead>\n",
              "    <tr style=\"text-align: right;\">\n",
              "      <th></th>\n",
              "      <th>label</th>\n",
              "      <th>body_clean</th>\n",
              "    </tr>\n",
              "  </thead>\n",
              "  <tbody>\n",
              "    <tr>\n",
              "      <th>0</th>\n",
              "      <td>0</td>\n",
              "      <td>Fuck that I dont wanna watch tranny porn.</td>\n",
              "    </tr>\n",
              "    <tr>\n",
              "      <th>1</th>\n",
              "      <td>0</td>\n",
              "      <td>Opie just wanted to have a good time. The same...</td>\n",
              "    </tr>\n",
              "    <tr>\n",
              "      <th>2</th>\n",
              "      <td>0</td>\n",
              "      <td>Fuck that faggot Fallon. Fucking sissy boy act...</td>\n",
              "    </tr>\n",
              "    <tr>\n",
              "      <th>3</th>\n",
              "      <td>0</td>\n",
              "      <td>BbBB...b.b..b.bb but OP's a faggot</td>\n",
              "    </tr>\n",
              "    <tr>\n",
              "      <th>4</th>\n",
              "      <td>1</td>\n",
              "      <td>Who even uses the word tranny except for trans...</td>\n",
              "    </tr>\n",
              "  </tbody>\n",
              "</table>\n",
              "</div>"
            ],
            "text/plain": [
              "   label                                         body_clean\n",
              "0      0          Fuck that I dont wanna watch tranny porn.\n",
              "1      0  Opie just wanted to have a good time. The same...\n",
              "2      0  Fuck that faggot Fallon. Fucking sissy boy act...\n",
              "3      0                 BbBB...b.b..b.bb but OP's a faggot\n",
              "4      1  Who even uses the word tranny except for trans..."
            ]
          },
          "metadata": {
            "tags": []
          },
          "execution_count": 2
        }
      ]
    },
    {
      "cell_type": "markdown",
      "metadata": {
        "id": "xtK1xNZmo2th"
      },
      "source": [
        "**Pay \"Attention\" to Your Context**\n",
        "\n",
        "https://www.aclweb.org/anthology/W19-3508.pdf\n",
        "\n",
        "https://github.com/tuhinjubcse/ALW3-ACL2019\n",
        "\n",
        "https://www.aclweb.org/anthology/N16-1174/\n",
        "\n",
        "https://github.com/uvipen/Hierarchical-attention-networks-pytorch/blob/master/src/utils.py\n",
        "\n",
        "\n",
        "*   Stacked Bi-LSTM models outperformed the simple Bi-LSTM models\n",
        "*   Best performing model on abusive language datasets is the stacked Bi-LSTM with contextual attention\n",
        "\n"
      ]
    },
    {
      "cell_type": "code",
      "metadata": {
        "colab": {
          "base_uri": "https://localhost:8080/"
        },
        "id": "axeLdhvyG5tI",
        "outputId": "bc0e14ca-c534-4477-f112-c77d601a497f"
      },
      "source": [
        "\"\"\"\n",
        "TEXT = data.Field(\n",
        "    tokenize='spacy', \n",
        "    lower=True\n",
        ")\n",
        "\n",
        "LABELS = data.Field(\n",
        "    sequential=False,\n",
        "    use_vocab=False,\n",
        "    dtype=torch.float\n",
        ")\n",
        "\n",
        "dataset = data.TabularDataset(\n",
        "    path=os.path.join(datapath),\n",
        "    format='csv',\n",
        "    fields={'body_clean': ('text', TEXT), 'label': ('labels', LABELS)}\n",
        ")\n",
        "\n",
        "D_trn, D_val, D_tst = dataset.split(split_ratio=[0.7, 0.1, 0.2], random_state=random.getstate())\n",
        "\n",
        "\n",
        "# load fastext simple embedding with 300d\n",
        "# !pip3 install --upgrade torchtext\n",
        "\n",
        "vectors – one of or a list containing instantiations of the GloVe, CharNGram, or Vectors classes.\n",
        "Alternatively, one of or a list of available pretrained vectors: charngram.100d fasttext.en.300d\n",
        "fasttext.simple.300d glove.42B.300d glove.840B.300d glove.twitter.27B.25d glove.twitter.27B.50d\n",
        "glove.twitter.27B.100d glove.twitter.27B.200d glove.6B.50d glove.6B.100d glove.6B.200d glove.6B.300d\n",
        "\n",
        "TEXT.build_vocab(D_trn, vectors='glove.6B.50d')\n",
        "LABELS.build_vocab(D_trn, vectors='glove.6B.50d')\n",
        "\n",
        "# get the vocab instance\n",
        "# Unique tokens in text vocabulary: 35577 (glove 6B 50d)\n",
        "# Unique tokens in text vocabulary: 35577 (fasttext.simple.300d)\n",
        "\n",
        "print(f\"Unique tokens in text vocabulary: {len(TEXT.vocab)}\")\n",
        "\n",
        "\"\"\"\n",
        "\n",
        "from torchtext import data\n",
        "from torchtext.vocab import GloVe\n",
        "import random\n",
        "\n",
        "max_input_len = 320\n",
        "\n",
        "# tokenizer settings\n",
        "tokenizer = BertTokenizer.from_pretrained('bert-base-uncased', do_lower_case=True)\n",
        "\n",
        "unk_token_idx = tokenizer.unk_token_id\n",
        "pad_token_idx = tokenizer.pad_token_id\n",
        "\n",
        "def tokenize_and_cut(sentence, max_input_length = 320):\n",
        "    tokens = tokenizer.tokenize(sentence)\n",
        "    tokens = tokens[:max_input_length - 2]\n",
        "    return tokens\n",
        "\n",
        "# load text inputs and labels\n",
        "TEXT = data.Field(batch_first=True, use_vocab=False, tokenize=tokenize_and_cut,\n",
        "                  preprocessing=tokenizer.convert_tokens_to_ids,\n",
        "                  pad_token=pad_token_idx, unk_token=unk_token_idx)\n",
        "\n",
        "LABELS = data.Field(\n",
        "    sequential=False,\n",
        "    dtype=torch.float\n",
        ")\n",
        "\n",
        "dataset = data.TabularDataset(\n",
        "    path=os.path.join(datapath),\n",
        "    format='csv',\n",
        "    fields={'body_clean': ('text', TEXT), 'label': ('labels', LABELS)}\n",
        ")\n",
        "\n",
        "D_trn, D_val, D_tst = dataset.split(split_ratio=[0.7, 0.1, 0.2], random_state=random.getstate())\n",
        "\n",
        "# build vocabulary and count tokens\n",
        "TEXT.build_vocab(D_trn)\n",
        "LABELS.build_vocab(D_trn)\n",
        "\n",
        "print(f\"Unique tokens in text vocabulary: {len(TEXT.vocab)}\")"
      ],
      "execution_count": 9,
      "outputs": [
        {
          "output_type": "stream",
          "text": [
            "/usr/local/lib/python3.6/dist-packages/torchtext/data/field.py:150: UserWarning: Field class will be retired soon and moved to torchtext.legacy. Please see the most recent release notes for further information.\n",
            "  warnings.warn('{} class will be retired soon and moved to torchtext.legacy. Please see the most recent release notes for further information.'.format(self.__class__.__name__), UserWarning)\n",
            "/usr/local/lib/python3.6/dist-packages/torchtext/data/example.py:68: UserWarning: Example class will be retired soon and moved to torchtext.legacy. Please see the most recent release notes for further information.\n",
            "  warnings.warn('Example class will be retired soon and moved to torchtext.legacy. Please see the most recent release notes for further information.', UserWarning)\n",
            "/usr/local/lib/python3.6/dist-packages/torchtext/data/example.py:52: UserWarning: Example class will be retired soon and moved to torchtext.legacy. Please see the most recent release notes for further information.\n",
            "  warnings.warn('Example class will be retired soon and moved to torchtext.legacy. Please see the most recent release notes for further information.', UserWarning)\n"
          ],
          "name": "stderr"
        },
        {
          "output_type": "stream",
          "text": [
            "Unique tokens in text vocabulary: 18548\n"
          ],
          "name": "stdout"
        }
      ]
    },
    {
      "cell_type": "code",
      "metadata": {
        "colab": {
          "base_uri": "https://localhost:8080/"
        },
        "id": "HGRB28zZWzuu",
        "outputId": "7a8c503d-3b97-4858-da3a-81ff91778c67"
      },
      "source": [
        "18548/35577 # glove to bert tokens"
      ],
      "execution_count": 12,
      "outputs": [
        {
          "output_type": "execute_result",
          "data": {
            "text/plain": [
              "0.5213480619501363"
            ]
          },
          "metadata": {
            "tags": []
          },
          "execution_count": 12
        }
      ]
    },
    {
      "cell_type": "code",
      "metadata": {
        "id": "Gcwf4EghTHfH"
      },
      "source": [
        "import torch.nn as nn\n",
        "import math\n",
        "\n",
        "\"\"\"Hyperparameters\"\"\"\n",
        "# training\n",
        "NUM_EPOCHS = 20\n",
        "LEARNING_RATE = 0.001\n",
        "BATCH_SIZE = 128\n",
        "\n",
        "# model hyperparameters\n",
        "OUTPUT_SIZE = 2 #  binary classification\n",
        "EMBED_SIZE = 50\n",
        "HIDDEN_SIZE = 1024 \n",
        "NUM_LAYERS = 2 # benchmark did 4\n",
        "DROPOUT = 0.5\n",
        "VOCAB_SIZE = len(TEXT.vocab)\n",
        "\n",
        "# gpu\n",
        "device = torch.device('cuda' if torch.cuda.is_available() else 'cpu')\n",
        "\n",
        "\"\"\"Model\"\"\"\n",
        "class attbilstm(nn.Module):\n",
        "    def __init__(self, vec=None):\n",
        "        super().__init__()\n",
        "        self.vocab_size = VOCAB_SIZE\n",
        "        self.hidden_dim = HIDDEN_SIZE\n",
        "        self.batch_size = BATCH_SIZE\n",
        "        self.emb_dim = EMBED_SIZE\n",
        "        self.embedding = nn.Embedding(VOCAB_SIZE, EMBED_SIZE)\n",
        "        if vec is not None:\n",
        "            self.embedding.weight.data.copy_(vec) # load pretrained\n",
        "            # self.embedding.weight.requires_grad = False #non-trainable\n",
        "        self.encoder = nn.LSTM(EMBED_SIZE, EMBED_SIZE, num_layers=NUM_LAYERS, bidirectional=True, dropout=DROPOUT)\n",
        "        self.fc = nn.Linear(HIDDEN_SIZE, OUTPUT_SIZE)\n",
        "        self.dropout = nn.Dropout(DROPOUT)\n",
        "    \n",
        "    def attnetwork(self, encoder_out, final_hidden):\n",
        "        hidden = final_hidden.squeeze(0)\n",
        "        attn_weights = torch.bmm(encoder_out, hidden.unsqueeze(2)).squeeze(2)\n",
        "        soft_attn_weights = F.softmax(attn_weights, 1)\n",
        "        new_hidden = torch.bmm(encoder_out.transpose(1,2), soft_attn_weights.unsqueeze(2)).squeeze(2)\n",
        "        return new_hidden\n",
        "    \n",
        "    def forward(self, sequence):\n",
        "        emb_input = self.embedding(sequence)    \n",
        "        inputx = self.dropout(emb_input)\n",
        "        output, (hn, cn) = self.encoder(inputx)\n",
        "        fbout = output[:, :, :self.hidden_dim]+ output[:, :, self.hidden_dim:] # sum bidir outputs F+B\n",
        "        fbout = fbout.permute(1,0,2)\n",
        "        fbhn = (hn[-2,:,:]+hn[-1,:,:]).unsqueeze(0)\n",
        "        attn_out = self.attnetwork(fbout, fbhn)\n",
        "        logits = self.fc(attn_out)\n",
        "        return logits"
      ],
      "execution_count": 25,
      "outputs": []
    },
    {
      "cell_type": "code",
      "metadata": {
        "colab": {
          "base_uri": "https://localhost:8080/",
          "height": 475,
          "referenced_widgets": [
            "87d5b3eb437b446d939bcf23314a1b28",
            "08cfc9eb77e14f40b23a0a3388011a58",
            "62cf4bc2115d404d9473c753a08a0450",
            "d67cc4bc805d4aad96a3329356c74fd9",
            "4e87f38400314783abe9aaf30a28e599",
            "e8eec8d07f544bafb048f1cbe2723e43",
            "c75324d8bef6417cb86dbd009b4d9f75",
            "d3be1181c3654f31a65362b1e4738edb"
          ]
        },
        "id": "YiqD2cgMew7f",
        "outputId": "336080c9-58af-4235-c2d2-acdd6ff8b958"
      },
      "source": [
        "import torch.optim as optim\n",
        "\n",
        "def accuracy(pred, label):\n",
        "    prob, idx = torch.max(pred,1)\n",
        "    precision = (idx==label).float().mean()\n",
        "    if gpu:\n",
        "        accuracy.append(precision.data.item())\n",
        "    else:\n",
        "        accuracy.append(precision.data.numpy()[0])\n",
        "    return np.mean(accuracy)\n",
        "\n",
        "def cat_accuracy(pred, label):\n",
        "    max_preds = pred.argmax(dim=1, keepdim=True)\n",
        "    correct = max_preds.squeeze(1).eq(label)\n",
        "    #correct = torch.LongTensor([0,4,0,0]).to(device).eq(label)\n",
        "    correct = correct.sum().unsqueeze(0)\n",
        "    bs = torch.LongTensor([label.shape[0]]).to(device)\n",
        "    acc = correct.item() / bs.item()\n",
        "    #return correct.sum()/torch.LongTensor([label.shape[0]])\n",
        "    return acc\n",
        "\n",
        "def train(model, it, lossf, optimizer):\n",
        "    model.train()\n",
        "    ep_loss = 0.0\n",
        "    ep_acc = 0.0\n",
        "    for b in tqdm(it):\n",
        "        optimizer.zero_grad()\n",
        "        seq, label = b.text, b.labels\n",
        "        pred = model(seq)\n",
        "        loss = lossf(pred, label)\n",
        "        acc = cat_accuracy(pred, label)\n",
        "        loss.backward()\n",
        "        optimizer.step()\n",
        "        ep_loss += loss.item()\n",
        "        ep_acc += acc\n",
        "    return ep_loss/ len(it), ep_acc/ len(it)\n",
        "\n",
        "def evaluate(model, it, lossf):\n",
        "    model.eval()\n",
        "    ep_loss = 0.0\n",
        "    ep_acc = 0.0\n",
        "    with torch.no_grad():\n",
        "\t    for b in it:\n",
        "\t        seq, label = b.text, b.labels\n",
        "\t        pred = model(seq)\n",
        "\t        loss = lossf(pred, label)\n",
        "\t        acc = cat_accuracy(pred, label)\n",
        "\t        ep_loss += loss.item()\n",
        "\t        ep_acc += acc\n",
        "    return ep_loss/ len(it), ep_acc/ len(it)\n",
        "\n",
        "train_it, valid_it, test_it = data.BucketIterator.splits(\n",
        "    (D_trn, D_val, D_tst), \n",
        "     batch_size = BATCH_SIZE, # (BATCH_SIZE, BATCH_SIZE, BATCH_SIZE),\n",
        "     sort_within_batch = True,\n",
        "     sort_key = lambda x: len(x.text), # minimize padding\n",
        "     device = device,\n",
        "     repeat = False)\n",
        "\n",
        "pretrained_vec = TEXT.vocab.vectors\n",
        "model = attbilstm(vec=pretrained_vec).to(device)\n",
        "lossf = nn.CrossEntropyLoss()\n",
        "optimizer = optim.Adam(model.parameters())\n",
        "\n",
        "for ep in range(NUM_EPOCHS):\n",
        "    print ('training epoch...', ep)\n",
        "    tr_loss, tr_acc = train(model, train_it, lossf, optimizer)\n",
        "    print ('TRAIN: loss %.2f acc %.1f' % (tr_loss, tr_acc))\n",
        "    vl_loss, vl_acc = evaluate(model, valid_it, lossf)\n",
        "    print('VALID: loss %.2f acc %.1f' % (vl_loss, vl_acc))\n",
        "\n",
        "te_loss, te_acc = evaluate(model, test_it, lossf)\n",
        "print('TEST: loss %.2f acc %.1f' % (te_loss, te_acc))"
      ],
      "execution_count": 32,
      "outputs": [
        {
          "output_type": "stream",
          "text": [
            "training epoch... 0\n"
          ],
          "name": "stdout"
        },
        {
          "output_type": "stream",
          "text": [
            "/usr/local/lib/python3.6/dist-packages/torchtext/data/iterator.py:48: UserWarning: BucketIterator class will be retired soon and moved to torchtext.legacy. Please see the most recent release notes for further information.\n",
            "  warnings.warn('{} class will be retired soon and moved to torchtext.legacy. Please see the most recent release notes for further information.'.format(self.__class__.__name__), UserWarning)\n"
          ],
          "name": "stderr"
        },
        {
          "output_type": "display_data",
          "data": {
            "application/vnd.jupyter.widget-view+json": {
              "model_id": "87d5b3eb437b446d939bcf23314a1b28",
              "version_minor": 0,
              "version_major": 2
            },
            "text/plain": [
              "HBox(children=(FloatProgress(value=0.0, max=218.0), HTML(value='')))"
            ]
          },
          "metadata": {
            "tags": []
          }
        },
        {
          "output_type": "stream",
          "text": [
            "/usr/local/lib/python3.6/dist-packages/torchtext/data/batch.py:23: UserWarning: Batch class will be retired soon and moved to torchtext.legacy. Please see the most recent release notes for further information.\n",
            "  warnings.warn('{} class will be retired soon and moved to torchtext.legacy. Please see the most recent release notes for further information.'.format(self.__class__.__name__), UserWarning)\n"
          ],
          "name": "stderr"
        },
        {
          "output_type": "error",
          "ename": "RuntimeError",
          "evalue": "ignored",
          "traceback": [
            "\u001b[0;31m---------------------------------------------------------------------------\u001b[0m",
            "\u001b[0;31mRuntimeError\u001b[0m                              Traceback (most recent call last)",
            "\u001b[0;32m<ipython-input-32-bcb3e55b3b7c>\u001b[0m in \u001b[0;36m<module>\u001b[0;34m()\u001b[0m\n\u001b[1;32m     65\u001b[0m \u001b[0;32mfor\u001b[0m \u001b[0mep\u001b[0m \u001b[0;32min\u001b[0m \u001b[0mrange\u001b[0m\u001b[0;34m(\u001b[0m\u001b[0mNUM_EPOCHS\u001b[0m\u001b[0;34m)\u001b[0m\u001b[0;34m:\u001b[0m\u001b[0;34m\u001b[0m\u001b[0;34m\u001b[0m\u001b[0m\n\u001b[1;32m     66\u001b[0m     \u001b[0mprint\u001b[0m \u001b[0;34m(\u001b[0m\u001b[0;34m'training epoch...'\u001b[0m\u001b[0;34m,\u001b[0m \u001b[0mep\u001b[0m\u001b[0;34m)\u001b[0m\u001b[0;34m\u001b[0m\u001b[0;34m\u001b[0m\u001b[0m\n\u001b[0;32m---> 67\u001b[0;31m     \u001b[0mtr_loss\u001b[0m\u001b[0;34m,\u001b[0m \u001b[0mtr_acc\u001b[0m \u001b[0;34m=\u001b[0m \u001b[0mtrain\u001b[0m\u001b[0;34m(\u001b[0m\u001b[0mmodel\u001b[0m\u001b[0;34m,\u001b[0m \u001b[0mtrain_it\u001b[0m\u001b[0;34m,\u001b[0m \u001b[0mlossf\u001b[0m\u001b[0;34m,\u001b[0m \u001b[0moptimizer\u001b[0m\u001b[0;34m)\u001b[0m\u001b[0;34m\u001b[0m\u001b[0;34m\u001b[0m\u001b[0m\n\u001b[0m\u001b[1;32m     68\u001b[0m     \u001b[0mprint\u001b[0m \u001b[0;34m(\u001b[0m\u001b[0;34m'TRAIN: loss %.2f acc %.1f'\u001b[0m \u001b[0;34m%\u001b[0m \u001b[0;34m(\u001b[0m\u001b[0mtr_loss\u001b[0m\u001b[0;34m,\u001b[0m \u001b[0mtr_acc\u001b[0m\u001b[0;34m)\u001b[0m\u001b[0;34m)\u001b[0m\u001b[0;34m\u001b[0m\u001b[0;34m\u001b[0m\u001b[0m\n\u001b[1;32m     69\u001b[0m     \u001b[0mvl_loss\u001b[0m\u001b[0;34m,\u001b[0m \u001b[0mvl_acc\u001b[0m \u001b[0;34m=\u001b[0m \u001b[0mevaluate\u001b[0m\u001b[0;34m(\u001b[0m\u001b[0mmodel\u001b[0m\u001b[0;34m,\u001b[0m \u001b[0mvalid_it\u001b[0m\u001b[0;34m,\u001b[0m \u001b[0mlossf\u001b[0m\u001b[0;34m)\u001b[0m\u001b[0;34m\u001b[0m\u001b[0;34m\u001b[0m\u001b[0m\n",
            "\u001b[0;32m<ipython-input-32-bcb3e55b3b7c>\u001b[0m in \u001b[0;36mtrain\u001b[0;34m(model, it, lossf, optimizer)\u001b[0m\n\u001b[1;32m     27\u001b[0m         \u001b[0moptimizer\u001b[0m\u001b[0;34m.\u001b[0m\u001b[0mzero_grad\u001b[0m\u001b[0;34m(\u001b[0m\u001b[0;34m)\u001b[0m\u001b[0;34m\u001b[0m\u001b[0;34m\u001b[0m\u001b[0m\n\u001b[1;32m     28\u001b[0m         \u001b[0mseq\u001b[0m\u001b[0;34m,\u001b[0m \u001b[0mlabel\u001b[0m \u001b[0;34m=\u001b[0m \u001b[0mb\u001b[0m\u001b[0;34m.\u001b[0m\u001b[0mtext\u001b[0m\u001b[0;34m,\u001b[0m \u001b[0mb\u001b[0m\u001b[0;34m.\u001b[0m\u001b[0mlabels\u001b[0m\u001b[0;34m\u001b[0m\u001b[0;34m\u001b[0m\u001b[0m\n\u001b[0;32m---> 29\u001b[0;31m         \u001b[0mpred\u001b[0m \u001b[0;34m=\u001b[0m \u001b[0mmodel\u001b[0m\u001b[0;34m(\u001b[0m\u001b[0mseq\u001b[0m\u001b[0;34m)\u001b[0m\u001b[0;34m\u001b[0m\u001b[0;34m\u001b[0m\u001b[0m\n\u001b[0m\u001b[1;32m     30\u001b[0m         \u001b[0mloss\u001b[0m \u001b[0;34m=\u001b[0m \u001b[0mlossf\u001b[0m\u001b[0;34m(\u001b[0m\u001b[0mpred\u001b[0m\u001b[0;34m,\u001b[0m \u001b[0mlabel\u001b[0m\u001b[0;34m)\u001b[0m\u001b[0;34m\u001b[0m\u001b[0;34m\u001b[0m\u001b[0m\n\u001b[1;32m     31\u001b[0m         \u001b[0macc\u001b[0m \u001b[0;34m=\u001b[0m \u001b[0mcat_accuracy\u001b[0m\u001b[0;34m(\u001b[0m\u001b[0mpred\u001b[0m\u001b[0;34m,\u001b[0m \u001b[0mlabel\u001b[0m\u001b[0;34m)\u001b[0m\u001b[0;34m\u001b[0m\u001b[0;34m\u001b[0m\u001b[0m\n",
            "\u001b[0;32m/usr/local/lib/python3.6/dist-packages/torch/nn/modules/module.py\u001b[0m in \u001b[0;36m_call_impl\u001b[0;34m(self, *input, **kwargs)\u001b[0m\n\u001b[1;32m    725\u001b[0m             \u001b[0mresult\u001b[0m \u001b[0;34m=\u001b[0m \u001b[0mself\u001b[0m\u001b[0;34m.\u001b[0m\u001b[0m_slow_forward\u001b[0m\u001b[0;34m(\u001b[0m\u001b[0;34m*\u001b[0m\u001b[0minput\u001b[0m\u001b[0;34m,\u001b[0m \u001b[0;34m**\u001b[0m\u001b[0mkwargs\u001b[0m\u001b[0;34m)\u001b[0m\u001b[0;34m\u001b[0m\u001b[0;34m\u001b[0m\u001b[0m\n\u001b[1;32m    726\u001b[0m         \u001b[0;32melse\u001b[0m\u001b[0;34m:\u001b[0m\u001b[0;34m\u001b[0m\u001b[0;34m\u001b[0m\u001b[0m\n\u001b[0;32m--> 727\u001b[0;31m             \u001b[0mresult\u001b[0m \u001b[0;34m=\u001b[0m \u001b[0mself\u001b[0m\u001b[0;34m.\u001b[0m\u001b[0mforward\u001b[0m\u001b[0;34m(\u001b[0m\u001b[0;34m*\u001b[0m\u001b[0minput\u001b[0m\u001b[0;34m,\u001b[0m \u001b[0;34m**\u001b[0m\u001b[0mkwargs\u001b[0m\u001b[0;34m)\u001b[0m\u001b[0;34m\u001b[0m\u001b[0;34m\u001b[0m\u001b[0m\n\u001b[0m\u001b[1;32m    728\u001b[0m         for hook in itertools.chain(\n\u001b[1;32m    729\u001b[0m                 \u001b[0m_global_forward_hooks\u001b[0m\u001b[0;34m.\u001b[0m\u001b[0mvalues\u001b[0m\u001b[0;34m(\u001b[0m\u001b[0;34m)\u001b[0m\u001b[0;34m,\u001b[0m\u001b[0;34m\u001b[0m\u001b[0;34m\u001b[0m\u001b[0m\n",
            "\u001b[0;32m<ipython-input-25-7bb578f414e4>\u001b[0m in \u001b[0;36mforward\u001b[0;34m(self, sequence)\u001b[0m\n\u001b[1;32m     45\u001b[0m         \u001b[0memb_input\u001b[0m \u001b[0;34m=\u001b[0m \u001b[0mself\u001b[0m\u001b[0;34m.\u001b[0m\u001b[0membedding\u001b[0m\u001b[0;34m(\u001b[0m\u001b[0msequence\u001b[0m\u001b[0;34m)\u001b[0m\u001b[0;34m\u001b[0m\u001b[0;34m\u001b[0m\u001b[0m\n\u001b[1;32m     46\u001b[0m         \u001b[0minputx\u001b[0m \u001b[0;34m=\u001b[0m \u001b[0mself\u001b[0m\u001b[0;34m.\u001b[0m\u001b[0mdropout\u001b[0m\u001b[0;34m(\u001b[0m\u001b[0memb_input\u001b[0m\u001b[0;34m)\u001b[0m\u001b[0;34m\u001b[0m\u001b[0;34m\u001b[0m\u001b[0m\n\u001b[0;32m---> 47\u001b[0;31m         \u001b[0moutput\u001b[0m\u001b[0;34m,\u001b[0m \u001b[0;34m(\u001b[0m\u001b[0mhn\u001b[0m\u001b[0;34m,\u001b[0m \u001b[0mcn\u001b[0m\u001b[0;34m)\u001b[0m \u001b[0;34m=\u001b[0m \u001b[0mself\u001b[0m\u001b[0;34m.\u001b[0m\u001b[0mencoder\u001b[0m\u001b[0;34m(\u001b[0m\u001b[0minputx\u001b[0m\u001b[0;34m)\u001b[0m\u001b[0;34m\u001b[0m\u001b[0;34m\u001b[0m\u001b[0m\n\u001b[0m\u001b[1;32m     48\u001b[0m         \u001b[0mfbout\u001b[0m \u001b[0;34m=\u001b[0m \u001b[0moutput\u001b[0m\u001b[0;34m[\u001b[0m\u001b[0;34m:\u001b[0m\u001b[0;34m,\u001b[0m \u001b[0;34m:\u001b[0m\u001b[0;34m,\u001b[0m \u001b[0;34m:\u001b[0m\u001b[0mself\u001b[0m\u001b[0;34m.\u001b[0m\u001b[0mhidden_dim\u001b[0m\u001b[0;34m]\u001b[0m\u001b[0;34m+\u001b[0m \u001b[0moutput\u001b[0m\u001b[0;34m[\u001b[0m\u001b[0;34m:\u001b[0m\u001b[0;34m,\u001b[0m \u001b[0;34m:\u001b[0m\u001b[0;34m,\u001b[0m \u001b[0mself\u001b[0m\u001b[0;34m.\u001b[0m\u001b[0mhidden_dim\u001b[0m\u001b[0;34m:\u001b[0m\u001b[0;34m]\u001b[0m \u001b[0;31m# sum bidir outputs F+B\u001b[0m\u001b[0;34m\u001b[0m\u001b[0;34m\u001b[0m\u001b[0m\n\u001b[1;32m     49\u001b[0m         \u001b[0mfbout\u001b[0m \u001b[0;34m=\u001b[0m \u001b[0mfbout\u001b[0m\u001b[0;34m.\u001b[0m\u001b[0mpermute\u001b[0m\u001b[0;34m(\u001b[0m\u001b[0;36m1\u001b[0m\u001b[0;34m,\u001b[0m\u001b[0;36m0\u001b[0m\u001b[0;34m,\u001b[0m\u001b[0;36m2\u001b[0m\u001b[0;34m)\u001b[0m\u001b[0;34m\u001b[0m\u001b[0;34m\u001b[0m\u001b[0m\n",
            "\u001b[0;32m/usr/local/lib/python3.6/dist-packages/torch/nn/modules/module.py\u001b[0m in \u001b[0;36m_call_impl\u001b[0;34m(self, *input, **kwargs)\u001b[0m\n\u001b[1;32m    725\u001b[0m             \u001b[0mresult\u001b[0m \u001b[0;34m=\u001b[0m \u001b[0mself\u001b[0m\u001b[0;34m.\u001b[0m\u001b[0m_slow_forward\u001b[0m\u001b[0;34m(\u001b[0m\u001b[0;34m*\u001b[0m\u001b[0minput\u001b[0m\u001b[0;34m,\u001b[0m \u001b[0;34m**\u001b[0m\u001b[0mkwargs\u001b[0m\u001b[0;34m)\u001b[0m\u001b[0;34m\u001b[0m\u001b[0;34m\u001b[0m\u001b[0m\n\u001b[1;32m    726\u001b[0m         \u001b[0;32melse\u001b[0m\u001b[0;34m:\u001b[0m\u001b[0;34m\u001b[0m\u001b[0;34m\u001b[0m\u001b[0m\n\u001b[0;32m--> 727\u001b[0;31m             \u001b[0mresult\u001b[0m \u001b[0;34m=\u001b[0m \u001b[0mself\u001b[0m\u001b[0;34m.\u001b[0m\u001b[0mforward\u001b[0m\u001b[0;34m(\u001b[0m\u001b[0;34m*\u001b[0m\u001b[0minput\u001b[0m\u001b[0;34m,\u001b[0m \u001b[0;34m**\u001b[0m\u001b[0mkwargs\u001b[0m\u001b[0;34m)\u001b[0m\u001b[0;34m\u001b[0m\u001b[0;34m\u001b[0m\u001b[0m\n\u001b[0m\u001b[1;32m    728\u001b[0m         for hook in itertools.chain(\n\u001b[1;32m    729\u001b[0m                 \u001b[0m_global_forward_hooks\u001b[0m\u001b[0;34m.\u001b[0m\u001b[0mvalues\u001b[0m\u001b[0;34m(\u001b[0m\u001b[0;34m)\u001b[0m\u001b[0;34m,\u001b[0m\u001b[0;34m\u001b[0m\u001b[0;34m\u001b[0m\u001b[0m\n",
            "\u001b[0;32m/usr/local/lib/python3.6/dist-packages/torch/nn/modules/rnn.py\u001b[0m in \u001b[0;36mforward\u001b[0;34m(self, input, hx)\u001b[0m\n\u001b[1;32m    580\u001b[0m         \u001b[0;32mif\u001b[0m \u001b[0mbatch_sizes\u001b[0m \u001b[0;32mis\u001b[0m \u001b[0;32mNone\u001b[0m\u001b[0;34m:\u001b[0m\u001b[0;34m\u001b[0m\u001b[0;34m\u001b[0m\u001b[0m\n\u001b[1;32m    581\u001b[0m             result = _VF.lstm(input, hx, self._flat_weights, self.bias, self.num_layers,\n\u001b[0;32m--> 582\u001b[0;31m                               self.dropout, self.training, self.bidirectional, self.batch_first)\n\u001b[0m\u001b[1;32m    583\u001b[0m         \u001b[0;32melse\u001b[0m\u001b[0;34m:\u001b[0m\u001b[0;34m\u001b[0m\u001b[0;34m\u001b[0m\u001b[0m\n\u001b[1;32m    584\u001b[0m             result = _VF.lstm(input, batch_sizes, hx, self._flat_weights, self.bias,\n",
            "\u001b[0;31mRuntimeError\u001b[0m: cuDNN error: CUDNN_STATUS_EXECUTION_FAILED"
          ]
        }
      ]
    },
    {
      "cell_type": "code",
      "metadata": {
        "colab": {
          "base_uri": "https://localhost:8080/"
        },
        "id": "WQNDsNNFfJTG",
        "outputId": "1cb49671-91a3-48c7-a328-0db4b2d738bc"
      },
      "source": [
        "device"
      ],
      "execution_count": 33,
      "outputs": [
        {
          "output_type": "execute_result",
          "data": {
            "text/plain": [
              "device(type='cuda')"
            ]
          },
          "metadata": {
            "tags": []
          },
          "execution_count": 33
        }
      ]
    },
    {
      "cell_type": "code",
      "metadata": {
        "id": "OripWUHegiKs"
      },
      "source": [
        ""
      ],
      "execution_count": null,
      "outputs": []
    }
  ]
}